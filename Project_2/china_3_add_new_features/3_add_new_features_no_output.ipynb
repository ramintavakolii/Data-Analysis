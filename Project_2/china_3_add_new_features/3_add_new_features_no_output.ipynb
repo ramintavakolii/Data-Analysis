{
 "cells": [
  {
   "attachments": {},
   "cell_type": "markdown",
   "metadata": {},
   "outputs": [],
   "source": [
    "<h1 align=center style=\"line-height:200%;font-family:vazir;color:#0099cc\">\n",
    "<font face=\"vazir\" color=\"#0099cc\">\n",
    "اضافه‌کردن ویژگی‌های جدید\n",
    "</font>\n",
    "</h1>\n",
    "\n",
    "<p dir=rtl style=\"direction: rtl;text-align: justify;line-height:200%;font-family:vazir;font-size:medium\">\n",
    "<font face=\"vazir\" size=3>\n",
    "مجموعه‌داده‌ی خانه‌های شهر پکن، اطلاعات بسیار مفیدی در اختیار ما قرار می‌دهد، اما گاهی اوقات می‌توان با استفاده از ویژگی‌های موجود، ویژگی‌های جدیدی هم تولید کرد. برای مثال، با داشتن متراژ و قیمت کلی هر خانه، می‌توانیم برای هر خانه، قیمت هر متر مربع را حساب کنیم که یک ویژگی مهم در تحلیل اطلاعات مسکن می‌باشد. در این قسمت از پروژه دو ویژگی جدید به مجموعه‌داده خود اضافه می‌کنیم و پس از آن با ابزار‌های مصورسازی، شروع به رسم نمودار‌هایی برای بررسی روابط بین آن‌ها می‌کنیم.\n",
    "\n",
    "</font>\n",
    "</p>\n"
   ]
  },
  {
   "attachments": {},
   "cell_type": "markdown",
   "metadata": {},
   "outputs": [],
   "source": [
    "<h2 align=right style=\"line-height:200%;font-family:vazir;color:#0099cc\">\n",
    "<font face=\"vazir\" color=\"#0099cc\">\n",
    "مجموعه‌داده\n",
    "</font>\n",
    "</h2>\n",
    "<p dir=rtl style=\"direction: rtl;text-align: justify;line-height:200%;font-family:vazir;font-size:medium\">\n",
    "<font face=\"vazir\" size=3>\n",
    "ابتدا فایل مجموعه‌داده‌ی <code>housing_no_outlier_full.csv</code> را می‌خوانیم.\n",
    "</font>\n",
    "</p>\n"
   ]
  },
  {
   "cell_type": "code",
   "execution_count": 29,
   "metadata": {
    "id": "0g-sHR5ImR30"
   },
   "outputs": [],
   "source": [
    "import pandas as pd\n",
    "import numpy as np\n",
    "import matplotlib.pyplot as plt\n",
    "import seaborn as sns\n",
    "\n",
    "housing_no_outlier = pd.read_csv('housing_no_outlier.csv', encoding='gbk')"
   ]
  },
  {
   "cell_type": "code",
   "execution_count": 30,
   "metadata": {},
   "outputs": [],
   "source": [
    "housing_no_outlier.head()\n"
   ]
  },
  {
   "attachments": {},
   "cell_type": "markdown",
   "metadata": {
    "id": "zI-wBf6hsFSj"
   },
   "outputs": [],
   "source": [
    "<h2 align=right style=\"line-height:200%;font-family:vazir;color:#0099cc\">\n",
    "<font face=\"vazir\" color=\"#0099cc\">\n",
    "قسمت اول\n",
    "</font>\n",
    "</h2>\n",
    "<p dir=rtl style=\"direction: rtl;text-align: justify;line-height:200%;font-family:vazir;font-size:medium\">\n",
    "<font face=\"vazir\" size=3>\n",
    "یکی از کارهای جذابی که در چنین تحلیل‌هایی می‌توان انجام داد، ساخت ویژگی جدید بر اساس ویژگی‌های موجود می‌باشد. البته این کار به‌شرطی باید انجام شود که ویژگی جدید، ویژگی مفیدی محسوب شود.\n",
    " به‌عنوان اولین قدم از شما می‌خواهیم فاصله‌ی هر خانه تا مرکز پایتخت چین را محاسبه کنید و در ستونی به اسم <code>distanceToCapital</code> ذخیره کنید.\n",
    "    طول جغرافیایی (<code>longitude</code>) و عرض جغرافیایی (<code>latitude</code>) مرکز پایتخت چین به ترتیب <code>116.4074</code> و <code>39.9042</code> می‌باشند.\n",
    "    برای محاسبه‌ی فاصله می‌توانید از فرمولی که در پایین آمده است استفاده کنید.\n",
    "  دقت کنید که در محاسبات، باید همه‌ی زاویه‌ها را به رادیان تبدیل کنید. نام دیتافریم جدید که شامل این ستون است را <code>housing_capital</code> قرار دهید.\n",
    "<br>\n",
    "<br>\n",
    "<span style=\"color:green\"><b>راهنمایی:</b></span>\n",
    "محاسبات را با نامپای انجام دهید.\n",
    "</font>\n",
    "</p>\n"
   ]
  },
  {
   "attachments": {},
   "cell_type": "markdown",
   "metadata": {},
   "outputs": [],
   "source": [
    "$$ distance = acos(sinφ_1*sinφ_2 + cosφ_1*cosφ_2 * cos(λ_2-λ_1)) * 6371.0088 $$\n",
    "$$ φ: \\text{latitude} $$ \n",
    "$$ λ: \\text{longitude} $$ "
   ]
  },
  {
   "cell_type": "code",
   "execution_count": 31,
   "metadata": {
    "id": "kDJDaGg8mpbP"
   },
   "outputs": [],
   "source": [
    "from math import radians\n",
    "\n",
    "capital_Lng = radians(116.4074) #  this is landa1\n",
    "capital_Lat = radians(39.9042)  #  this is phi1\n",
    "city_Lng = np.radians(housing_no_outlier['Lng'])  #  this is landa2\n",
    "city_Lat = np.radians(housing_no_outlier['Lat'])  #  this is phi2\n",
    "\n",
    "print(city_Lng)\n",
    "\n",
    "distance = np.arccos(np.sin(capital_Lat) * np.sin(city_Lat) + np.cos(capital_Lat) * np.cos(city_Lat) * np.cos(city_Lng - capital_Lng)) * 6371.0088\n",
    "\n",
    "housing_capital = housing_no_outlier.copy()\n",
    "housing_capital['distanceToCapital'] = distance\n",
    "\n",
    "housing_capital.head()"
   ]
  },
  {
   "attachments": {},
   "cell_type": "markdown",
   "metadata": {
    "id": "vg7rk5ItwRMg"
   },
   "outputs": [],
   "source": [
    "<h2 align=right style=\"line-height:200%;font-family:vazir;color:#0099cc\">\n",
    "<font face=\"vazir\" color=\"#0099cc\">\n",
    "قسمت دوم\n",
    "</font>\n",
    "</h2>\n",
    "<p dir=rtl style=\"direction: rtl;text-align: justify;line-height:200%;font-family:vazir;font-size:medium\">\n",
    "<font face=\"vazir\" size=3>\n",
    "در این مجموعه‌داده، قیمت معامله‌شده و متراژ هر خانه مشخص است. اما قیمت هر متر مربع خانه مشخص نیست. در ستون <code>pricePerSquare</code> قیمت هر متر مربع خانه را محاسبه و ذخیره کنید. توجه کنید که قیمت کلی بر اساس <i>میلیون یوان</i> است. پس قیمتی که برای هر متر مربع از خانه حساب می‌کنید، باید در هزار ضرب شود تا قیمت بر اساس <i>یوان</i> به‌دست آید. نام دیتافریم حاصل را برابر <code>housing_PPS</code> قرار دهید.\n",
    "</font>\n",
    "</p>\n"
   ]
  },
  {
   "cell_type": "code",
   "execution_count": 32,
   "metadata": {
    "id": "CnAs0TWGwRji"
   },
   "outputs": [],
   "source": [
    "housing_PPS = housing_capital.copy()\n",
    "\n",
    "print('total price = ', housing_PPS['totalPrice'])\n",
    "print('square = ', housing_PPS['square'])\n",
    "housing_PPS['pricePerSquare'] = (housing_PPS['totalPrice'] * 1000) / housing_PPS['square']\n",
    "# housing_PPS['pricePerSquare']\n",
    "housing_PPS.head()"
   ]
  },
  {
   "attachments": {},
   "cell_type": "markdown",
   "metadata": {
    "id": "okbnq7-uwvzy"
   },
   "outputs": [],
   "source": [
    "\n",
    "<p dir=rtl style=\"direction: rtl;text-align: justify;line-height:200%;font-family:vazir;font-size:medium\">\n",
    "<font face=\"vazir\" size=3>\n",
    "می‌خواهیم با مصور‌سازی داده به روش‌های گوناگون، اطلاعاتی متناسب با نیاز های خود استخراج کنیم. مجموعه‌داده‌ی ما نه مقدار گم‌شده دارد، نه داده‌ی پرت دارد، و نه ستون‌هایی که با فرمت نامناسب ذخیره شده‌ باشند. در اولین قدم نگاهی به هیستوگرام ستون های عددی می‌اندازیم.\n",
    "<br>\n",
    "برای داشتن جدولی از هیستوگرام همه‌ی ستون‌های عددی، باید از تابع <code>hist</code> ‌استفاده کنیم. دقت کنید که تابع <code>hist</code> با چیزی که در آموزش‌های مربوط به رابط پانداز دیده بودیم فرق دارد. <code>plot(kint = ‘hist’)</code> هیستوگرام همه‌ی ستون‌ها را بر روی یک صفحه‌محور می‌کشید اما تابع <code>hist</code> برای هر ستون یک صفحه‌محور جداگانه رسم می‌کند.\n",
    "</font>\n",
    "</p>"
   ]
  },
  {
   "cell_type": "code",
   "execution_count": 33,
   "metadata": {
    "colab": {
     "base_uri": "https://localhost:8080/",
     "height": 915
    },
    "id": "dCZp17E5xJ3O",
    "outputId": "43a5d762-e9c9-4de6-cb58-08230324ec44"
   },
   "outputs": [],
   "source": [
    "fig , ax = plt.subplots()\n",
    "fig.set_size_inches(15,15)\n",
    "housing_PPS.hist(ax = ax, bins = 20);"
   ]
  },
  {
   "cell_type": "markdown",
   "metadata": {
    "id": "2wVns1Ghxf-f"
   },
   "outputs": [],
   "source": [
    "<p dir=rtl style=\"direction: rtl;text-align: justify;line-height:200%;font-family:vazir;font-size:medium\">\n",
    "<font face=\"vazir\" size=3>\n",
    "با توجه به نمودار بالا، قیمت خانه یک خمیدگی به سمت قیمت ۲۰۰ میلیون یوان دارد. اکثر خانه‌ها حوالی سال ۲۰۰۰ ساخته شده‌اند. بیشترین فاصله از مرکز پایتخت ۴۰ کیلومتر است. اکثر خانه‌ها دو اتاق هال دارند. می‌توان اطلاعات بیشتری از این نمودار بیرون کشید.\n",
    "</font>\n",
    "</p>\n"
   ]
  },
  {
   "cell_type": "markdown",
   "metadata": {},
   "outputs": [],
   "source": [
    "<h2 align=right style=\"line-height:200%;font-family:vazir;color:#0099cc\">\n",
    "<font face=\"vazir\" color=\"#0099cc\">\n",
    "بررسی تاثیر فاصله از مرکز بر روی قیمت‌ هر متر مربع</font>\n",
    "</h2>\n"
   ]
  },
  {
   "attachments": {},
   "cell_type": "markdown",
   "metadata": {},
   "outputs": [],
   "source": [
    "<p dir=rtl style=\"direction: rtl;text-align: justify;line-height:200%;font-family:vazir;font-size:medium\">\n",
    "<font face=\"vazir\" size=3>\n",
    "می‌خواهیم از ستون جدیدی که ساختیم استفاده کنیم و ببینیم که با دورشدن از مرکز شهر،‌ قیمت هر متر مربع از خانه چگونه تغییر می‌کند. برای این‌کار می توان از نمودار <code>regplot</code>  سیبورن استفاده کرد که علاوه بر نمایش نقاط،‌ با رگرسیون روند داده را نشان می‌دهد.\n",
    "(اجرای سلول زیر ممکن است چند دقیقه طول بکشد.)\n",
    "</font>\n",
    "</p>"
   ]
  },
  {
   "cell_type": "code",
   "execution_count": 34,
   "metadata": {
    "colab": {
     "base_uri": "https://localhost:8080/",
     "height": 497
    },
    "id": "LNToqUrbxgRP",
    "outputId": "e09d99ff-4175-4800-8246-10c09e0f2eda"
   },
   "outputs": [],
   "source": [
    "fig , ax = plt.subplots()\n",
    "fig.set_size_inches(8,8)\n",
    "\n",
    "sns.regplot(ax = ax, data = housing_PPS, x = 'distanceToCapital', y = 'pricePerSquare', \n",
    "                   line_kws={'color':'red'}, scatter_kws= {'alpha': 0.1});"
   ]
  },
  {
   "attachments": {},
   "cell_type": "markdown",
   "metadata": {
    "id": "Mgu2HxecE5g6"
   },
   "outputs": [],
   "source": [
    "<h2 align=right style=\"line-height:200%;font-family:vazir;color:#0099cc\">\n",
    "<font face=\"vazir\" color=\"#0099cc\">\n",
    "قسمت سوم\n",
    "</font>\n",
    "</h2>\n",
    "<p dir=rtl style=\"direction: rtl;text-align: justify;line-height:200%;font-family:vazir;font-size:medium\">\n",
    "<font face=\"vazir\" size=3>\n",
    "در این بخش می‌خواهیم بررسی کنیم که داشتن آسانسور تا چه‌اندازه بر\n",
    "<b>\n",
    " قیمت هر متر مربع\n",
    "</b>\n",
    "  خانه‌ها تاثیر می‌گذارد. برای این کار از نمودار‌های مختلفی می‌توان استفاده کرد. برای مثال با کمک نمودار میله‌ای می‌توان میانگین قیمت  خانه‌هایی که آسانسور دارند و آسانسور ندارند را مقایسه کرد یا با کمک نمودار جعبه‌ای می‌توان نموداری کشید که توزیع قیمت آن‌ها را نشان دهد. ما از نمودار چگالی برای مقایسه استفاده می‌کنیم.\n",
    "<br>\n",
    "<ul style=\"direction: rtl;text-align: right;\">\n",
    "  <li>\n",
    "ابتدا یک شکل شامل یک صفحه‌محور بسازید و اندازه‌ی طول و عرض شکل را برابر ۶ اینچ قرار دهید.\n",
    "</li>\n",
    "  <li>\n",
    "با استفاده از رابط پانداز، نمودار تخمین توزیع قیمت را برای خانه‌های بدون آسانسور رسم کنید. این نمودار را بر روی صفحه‌محوری که در مرحله‌ی قبل ساختید رسم کنید.\n",
    "</li>\n",
    "  <li>\n",
    "سپس نمودار تخمین توزیع قیمت را برای خانه‌های دارای آسانسور روی همان صفحه‌محور رسم کنید.\n",
    "</li>\n",
    "\n",
    "\n",
    "  <li>\n",
    "تنظیمات را طوری تغییر دهید که خروجی شما دقیقا مانند شکل زیر شود. رنگ‌های استفاده شده:\n",
    "<ul>\n",
    "<li>\n",
    "رنگ عنوان شکل:‌ <code>red</code>\n",
    "</li>\n",
    "<li>\n",
    "رنگ زمینه صفحه‌محور: <code>#ffffcc</code>\n",
    "</li>\n",
    "<li>\n",
    "رنگ زمینه شکل: <code>khaki</code>\n",
    "</li>\n",
    "</ul>\n",
    "</font>\n",
    "</p>"
   ]
  },
  {
   "cell_type": "markdown",
   "metadata": {},
   "outputs": [],
   "source": [
    "<p style=\"text-align:center;\"><img src=\"output.png\"></p>"
   ]
  },
  {
   "cell_type": "code",
   "execution_count": 40,
   "metadata": {
    "colab": {
     "base_uri": "https://localhost:8080/",
     "height": 404
    },
    "id": "KELZT4208bUB",
    "outputId": "eb0dcbf0-09ca-4fc8-c186-25d498dbf29a"
   },
   "outputs": [],
   "source": [
    "df1 = housing_PPS[housing_PPS['elevator'] == 'has elevator']\n",
    "df2 = housing_PPS[housing_PPS['elevator'] == 'no elevator']\n",
    "\n",
    "fig, ax = plt.subplots(figsize = (6,6))\n",
    "\n",
    "df2.pricePerSquare.plot(kind = 'kde')\n",
    "df1.pricePerSquare.plot(kind = 'kde')\n",
    "\n",
    "ax.set_title('effect of elevator on price', color = 'red')\n",
    "ax.set_facecolor('#ffffcc')\n",
    "fig.set_facecolor('khaki')\n",
    "ax.set_xlabel('pricePerSquare')\n",
    "ax.legend(['no elevator', 'has elevator'])\n"
   ]
  },
  {
   "attachments": {},
   "cell_type": "markdown",
   "metadata": {},
   "outputs": [],
   "source": [
    "<p dir=rtl style=\"direction: rtl;text-align: right;line-height:200%;font-family:vazir;font-size:medium\">\n",
    "<font face=\"vazir\" size=3>\n",
    "دیتافریم نهایی را برای استفاده در مراحل بعدی پروژه در فایلی به‌نام <code>housing_extended.csv</code> ذخیره می‌کنیم.\n",
    "</font>\n",
    "</p>"
   ]
  },
  {
   "cell_type": "code",
   "execution_count": 36,
   "metadata": {
    "id": "8PtPoP2v026f"
   },
   "outputs": [],
   "source": [
    "housing_PPS.to_csv('housing_extended.csv', encoding='gbk', index=False)"
   ]
  },
  {
   "attachments": {},
   "cell_type": "markdown",
   "metadata": {},
   "outputs": [],
   "source": [
    "<h2 align=right style=\"line-height:200%;font-family:vazir;color:#0099cc\">\n",
    "<font face=\"vazir\" color=\"#0099cc\">\n",
    "<b>سلول جواب‌ساز</b>\n",
    "</font>\n",
    "</h2>\n",
    "\n",
    "\n",
    "<p dir=rtl style=\"direction: rtl; text-align: justify; line-height:200%; font-family:vazir; font-size:medium\">\n",
    "<font face=\"vazir\" size=3>\n",
    "    برای ساخته‌شدن فایل <code>result.zip</code> سلول زیر را اجرا کنید. توجه داشته باشید که پیش از اجرای سلول زیر تغییرات اعمال شده در نت‌بوک را ذخیره کرده باشید (<code>ctrl+s</code>) تا در صورت نیاز به پشتیبانی امکان بررسی کد شما وجود داشته باشد.\n",
    "</font>\n",
    "</p>\n"
   ]
  },
  {
   "cell_type": "code",
   "execution_count": 37,
   "metadata": {},
   "outputs": [],
   "source": [
    "import zipfile\n",
    "import joblib\n",
    "import nbformat as nbf\n",
    "\n",
    "ntbk = nbf.read(\"3_add_new_features.ipynb\", nbf.NO_CONVERT)\n",
    "new_ntbk = ntbk\n",
    "for cell in ntbk.cells:\n",
    "    cell['outputs']=[]\n",
    "nbf.write(new_ntbk, \"3_add_new_features_no_output.ipynb\", version=nbf.NO_CONVERT)\n",
    "\n",
    "housing_capital.head(100).to_csv(\"housing_capital.csv\") \n",
    "housing_PPS.head(100).to_csv(\"housing_PPS.csv\")\n",
    "joblib.dump(fig, \"fig\")\n",
    "\n",
    "def compress(file_names):\n",
    "    print(\"File Paths:\")\n",
    "    print(file_names)\n",
    "    compression = zipfile.ZIP_DEFLATED\n",
    "    with zipfile.ZipFile(\"result.zip\", mode=\"w\") as zf:\n",
    "        for file_name in file_names:\n",
    "            zf.write('./' + file_name, file_name, compress_type=compression)\n",
    "\n",
    "file_names = [\"housing_capital.csv\", \"housing_PPS.csv\", \"fig\", '3_add_new_features_no_output.ipynb']\n",
    "compress(file_names)"
   ]
  }
 ],
 "metadata": {
  "colab": {
   "collapsed_sections": [],
   "name": "step3.ipynb",
   "provenance": []
  },
  "kernelspec": {
   "display_name": "qenv",
   "language": "python",
   "name": "qenv"
  },
  "language_info": {
   "codemirror_mode": {
    "name": "ipython",
    "version": 3
   },
   "file_extension": ".py",
   "mimetype": "text/x-python",
   "name": "python",
   "nbconvert_exporter": "python",
   "pygments_lexer": "ipython3",
   "version": "3.11.4"
  },
  "vscode": {
   "interpreter": {
    "hash": "44e7e1b8fa2096bd5707ed7fd18b1724a2db25f4c565a7673f8b6e7bfc49d25d"
   }
  }
 },
 "nbformat": 4,
 "nbformat_minor": 4
}
