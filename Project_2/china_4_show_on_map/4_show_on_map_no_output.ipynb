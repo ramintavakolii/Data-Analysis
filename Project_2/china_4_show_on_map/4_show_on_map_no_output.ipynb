{
 "cells": [
  {
   "attachments": {},
   "cell_type": "markdown",
   "metadata": {},
   "outputs": [],
   "source": [
    "<h1 align=center style=\"line-height:200%;font-family:vazir;color:#0099cc\">\n",
    "<font face=\"vazir\" color=\"#0099cc\">\n",
    "نمایش روی نقشه\n",
    "</font>\n",
    "</h1>\n",
    "\n",
    "<p dir=rtl style=\"direction: rtl;text-align: justify;line-height:200%;font-family:vazir;font-size:medium\">\n",
    "<font face=\"vazir\" size=3>\n",
    "در مجموعه‌داده‌‌ی خانه‌های چین، مختصات جغرافیایی هر خانه مشخص است. با استفاده از تابع <code>scatter</code> کتابخانه‌ی مت‌پلات، می‌توان خانه‌ها را بر اساس موقعیت‌شان روی رسم کرد و سپس به تحلیل نقشه پرداخت. اطلاعات بسیار مفیدی از این نقشه‌ها قابل استخراج است. تراکم مناطق مختلف، ویژگی‌های خانه‌های هر منطقه (داشتن آسانسور، متراژ، قیمت و غیره) از اطلاعاتی هستند که می‌توان از این نموداری به‌دست آورد. در این گام از پروژه، نحوه‌ی رسم چنین نمودارهایی را با هم می‌بینیم.\n",
    "</font> \n",
    "</p>"
   ]
  },
  {
   "attachments": {},
   "cell_type": "markdown",
   "metadata": {},
   "outputs": [],
   "source": [
    "<h2 align=right style=\"line-height:200%;font-family:vazir;color:#0099cc\">\n",
    "<font face=\"vazir\" color=\"#0099cc\">\n",
    "مجموعه‌داده\n",
    "</font>\n",
    "</h2>\n",
    "<p dir=rtl style=\"direction: rtl;text-align: justify;line-height:200%;font-family:vazir;font-size:medium\">\n",
    "<font face=\"vazir\" size=3>\n",
    "ابتدا فایل <code>housing_extended.csv</code> را که در گام قبلی پروژه به‌دست آمد می‌خوانیم.\n",
    "</font>\n",
    "</p>\n"
   ]
  },
  {
   "cell_type": "code",
   "execution_count": 62,
   "metadata": {
    "id": "q3SDwnEV3254"
   },
   "outputs": [],
   "source": [
    "import pandas as pd\n",
    "import matplotlib.pyplot as plt\n",
    "\n",
    "housing_extended = pd.read_csv('housing_extended.csv', encoding='gbk')\n",
    "housing_extended.head()"
   ]
  },
  {
   "attachments": {},
   "cell_type": "markdown",
   "metadata": {},
   "outputs": [],
   "source": [
    "<p dir=rtl style=\"direction: rtl;text-align: justify;line-height:200%;font-family:vazir;font-size:medium\">\n",
    "<font face=\"vazir\" size=3>\n",
    "در این گام از پروژه تنها از یک صدم سطر‌ها برای ترسیم نمودار‌ها استفاده می‌کنیم. دلیل این امر، جلوگیری از سنگین‌شدن نت‌بوک و فایل‌های خروجی می‌باشد. دیتافریمی که از آن استفاده می‌کنیم، <code>housing_sample</code> نام دارد که با انتخاب یک سطر از هر صد سطر دیتافریم <code>housing_extended</code> به‌وجود آمده است. در گام بعدی پروژه که گام نهایی نیز می‌باشد، از همان دیتافریم اصلی <code>housing_extended</code> استفاده می‌کنیم.\n",
    "</font>\n",
    "</p>"
   ]
  },
  {
   "cell_type": "code",
   "execution_count": 63,
   "metadata": {},
   "outputs": [],
   "source": [
    "housing_sample = housing_extended.iloc[:-100:100]\n",
    "housing_sample.shape"
   ]
  },
  {
   "cell_type": "markdown",
   "metadata": {
    "id": "B-5iOSwBK6SI"
   },
   "outputs": [],
   "source": [
    "<p dir=rtl style=\"direction: rtl;text-align: justify;line-height:200%;font-family:vazir;font-size:medium\">\n",
    "<font face=\"vazir\" size=3>\n",
    "با داشتن طول و عرض جغرافیایی خانه‌ها،‌ می‌توانیم با کمک گرفتن از نمودار پراکندگی، خانه‌ها را روی صفحه رسم کنیم و موقعیت آن‌ها را نسبت به هم ببینیم. مقیاس محور افقی و عمودی نمودار باید برابر باشد. برای یکسان کردن مقیاس محور افقی و عمودی از متد <code>ax.axis(‘equal’)</code> استفاده می‌کنیم.\n",
    "</font>\n",
    "</p>"
   ]
  },
  {
   "cell_type": "code",
   "execution_count": 64,
   "metadata": {
    "colab": {
     "base_uri": "https://localhost:8080/",
     "height": 460
    },
    "id": "0Dzsw20f5DXr",
    "outputId": "1a447f9a-cd66-4ce6-eab5-a07dde3ee152"
   },
   "outputs": [],
   "source": [
    "fig1 , ax1 = plt.subplots()\n",
    "fig1.set_size_inches(10,7)\n",
    "\n",
    "housing_sample.plot(x='Lng', y='Lat', ax=ax1, kind='scatter', alpha=0.2)\n",
    "ax1.axis('equal')\n",
    "ax1.set_title('scatter plot')"
   ]
  },
  {
   "attachments": {},
   "cell_type": "markdown",
   "metadata": {
    "id": "pOThE5ooMwuy"
   },
   "outputs": [],
   "source": [
    "<p dir=rtl style=\"direction: rtl;text-align: right;line-height:200%;font-family:vazir;font-size:medium\">\n",
    "<font face=\"vazir\" size=3>\n",
    "مشاهده می‌کنید که اکثر خانه‌ها در یک نقطه جمع شده‌اند که همان مرکز پایتخت چین می‌باشد.\n",
    "</font>\n",
    "</p>"
   ]
  },
  {
   "attachments": {},
   "cell_type": "markdown",
   "metadata": {
    "id": "ivyvZ1AHNGde"
   },
   "outputs": [],
   "source": [
    "<h2 align=right style=\"line-height:200%;font-family:vazir;color:#0099cc\">\n",
    "<font face=\"vazir\" color=\"#0099cc\">\n",
    "تعیین رنگ نقاط\n",
    "</font>\n",
    "</h2>\n",
    "\n",
    "\n",
    "<p dir=rtl style=\"direction: rtl;text-align: justify;line-height:200%;font-family:vazir;font-size:medium\">\n",
    "<font face=\"vazir\" size=3>\n",
    "در نمودار <code>scatter</code> با تنظیم مقدار برای متغیر <code>c</code> و <code>s</code> می‌توان به‌ترتیب رنگ و اندازه‌ی نقاط را مشخص کرد و نموداری حاوی اطلاعات ارزشمندتری رسم کرد. برخلاف تابع <code>plot</code> که در آن فقط یک رنگ برای همه‌ی نقاط مشخص می‌کردیم، در تابع <code>scatter</code> این کار با یک مجموعه نقطه و یک نگاشت رنگ انجام می‌شود. یعنی به‌ازای هر نقطه یک  رنگ یا عدد وجود دارد که این عدد بعداً به کمک نگاشت رنگ <code>(color map)</code> به یک رنگ تبدیل می‌شود.\n",
    "<br>\n",
    "ما قصد داریم برای تعیین رنگ نقاط از <b>قیمت هر متر مربع</b> استفاده می‌کنیم. یعنی قیمت هر خانه با تابع نگاشت رنگ تبدیل به رنگی برای آن نقطه روی نقشه می‌شود. به دلیل استفاده از نگاشت رنگ <code>jet</code>، هر چه قیمت بیشتر باشد، رنگ بیشتر به سمت رنگ‌های گرم می‌رود. \n",
    "</font>\n",
    "</p>"
   ]
  },
  {
   "cell_type": "code",
   "execution_count": 65,
   "metadata": {
    "colab": {
     "base_uri": "https://localhost:8080/",
     "height": 460
    },
    "id": "9q-xDawELrE9",
    "outputId": "191ee15d-8f62-4c64-8e71-2b9fb77b25d2"
   },
   "outputs": [],
   "source": [
    "fig2 , ax2 = plt.subplots()\n",
    "fig2.set_size_inches(10,7)\n",
    "\n",
    "housing_sample.plot(x='Lng', y='Lat', ax=ax2, kind='scatter', alpha=0.4,\n",
    "                    c='pricePerSquare', cmap=plt.get_cmap(\"jet\"), colorbar=True)\n",
    "ax2.axis('equal')"
   ]
  },
  {
   "cell_type": "markdown",
   "metadata": {
    "id": "5_-jzDE6Op3w"
   },
   "outputs": [],
   "source": [
    "<p dir=rtl style=\"direction: rtl;text-align: justify;line-height:200%;font-family:vazir;font-size:medium\">\n",
    "<font face=\"vazir\" size=3>\n",
    "نمودار بالا نشان می‌دهد که گران‌ترین خانه‌ها (بر اساس هر متر مربع) در نزدیکی مرکز شهر قرار دارند و با دور شدن از مرکز شهر، قیمت‌ها چگونه کاهش می‌یابد.\n",
    "</font>\n",
    "</p>"
   ]
  },
  {
   "attachments": {},
   "cell_type": "markdown",
   "metadata": {
    "id": "ujc0cwtfVQgt"
   },
   "outputs": [],
   "source": [
    "<h2 align=right style=\"line-height:200%;font-family:vazir;color:#0099cc\">\n",
    "<font face=\"vazir\" color=\"#0099cc\">\n",
    "قسمت اول\n",
    "</font>\n",
    "</h2>\n",
    "<p dir=rtl style=\"direction: rtl;text-align: justify;line-height:200%;font-family:vazir;font-size:medium\">\n",
    "<font face=\"vazir\" size=3>\n",
    "از صفحه‌محور ایجاد شده در کد قبل استفاده کنید و با استفاده از متد <code>annotate</code> مرکز شهر را بر روی نمودار پراکندگی اضافه کنید. دقت کنید که نمودار آماده است و فقط باید <code>annotation</code> را اضافه کنید.\n",
    "\n",
    "<ul dir =rtl>\n",
    "  <li>\n",
    "      محل قرار گرفتن متن، نقطه‌ی <code>(116.6 , 39.65)</code> می‌باشد.\n",
    "</li>\n",
    "\n",
    "  <li>\n",
    "      محل قرار گیری انتهای فلش، نقطه‌ی <code>(116.40, 39.90)</code> می‌باشد.\n",
    "</li>\n",
    "\n",
    "\n",
    "  <li>\n",
    "متن نمایشی را برابر <code>center of beijing</code> قرار دهید.</li>\n",
    "\n",
    "  <li>\n",
    "نوع اتصال را برابر <code>connectionstyle</code> قرار دهید (شیء آن ساخته شده است).\n",
    "</li>\n",
    "  <li>\n",
    "نوع فلش را برابر <code>fancy</code> قرار دهید.</li>\n",
    "</ul>\n",
    "</font>\n",
    "</p>"
   ]
  },
  {
   "cell_type": "code",
   "execution_count": 66,
   "metadata": {
    "colab": {
     "base_uri": "https://localhost:8080/",
     "height": 442
    },
    "id": "Oz3qA1_XNM7q",
    "outputId": "60f86a61-e308-4ccb-d0cd-bce87585680a"
   },
   "outputs": [],
   "source": [
    "from matplotlib.patches import ConnectionStyle\n",
    "connectionstyle = ConnectionStyle(\"Arc3\", rad=0.3)\n",
    "\n",
    "ax2.annotate(\"center of beijing\", xy = (116.40, 39.90), xytext=(116.6, 39.65), arrowprops=dict(arrowstyle = \"fancy\", connectionstyle=connectionstyle))\n",
    "fig2"
   ]
  },
  {
   "attachments": {},
   "cell_type": "markdown",
   "metadata": {},
   "outputs": [],
   "source": [
    "<p dir=rtl style=\"direction: rtl;text-align: justify;line-height:200%;font-family:vazir;font-size:medium\">\n",
    "<font face=\"vazir\" size=3>\n",
    "همان‌طور که در درسنامه‌ی «تنظیمات (۱)» از فصل «مصورسازی داده» دیدیم، تا وقتی‌که متد <code>clear</code> را صدا نزنید،‌ نمودار پاک نمی‌شود و اشکال بر روی اشکال قبلی رسم می‌شوند. یعنی هر بار که کد بالا را اجرا می کنید،‌ یک <code>annotation</code> جدید روی قبلی رسم می‌شود. برای جلوگیری از این کار،‌ پس از نوشتن کد صحیح، سلول ایجاد شکل و سلول اضافه کردن <code>annotation</code> را یک‌بار دیگر اجرا کنید و بررسی کنید که در سلول زیر فقط یک شیء <code>text</code> باشد. \n",
    "</font>\n",
    "</p>"
   ]
  },
  {
   "cell_type": "code",
   "execution_count": 67,
   "metadata": {},
   "outputs": [],
   "source": [
    "ax2.texts"
   ]
  },
  {
   "attachments": {},
   "cell_type": "markdown",
   "metadata": {},
   "outputs": [],
   "source": [
    "<h2 align=right style=\"line-height:200%;font-family:vazir;color:#0099cc\">\n",
    "<font face=\"vazir\" color=\"#0099cc\">\n",
    "تعیین اندازه‌ی نقاط</font>\n",
    "</h2>\n",
    "<p dir=rtl style=\"direction: rtl;text-align: justify;line-height:200%;font-family:vazir;font-size:medium\">\n",
    "<font face=\"vazir\" size=3>\n",
    "اکنون با متغیر <code>s</code> سایز نقاط را مشخص می‌کنیم. می‌توانیم فاصله‌ی هر خانه از مرکز شهر را به‌عنوان معیاری برای اندازه‌ی نقاط انتخاب کنیم. به شکل زیر توجه کنید:\n",
    "</font>\n",
    "</p>"
   ]
  },
  {
   "cell_type": "code",
   "execution_count": 68,
   "metadata": {
    "colab": {
     "base_uri": "https://localhost:8080/",
     "height": 460
    },
    "id": "febbzc9iWZ6n",
    "outputId": "a5b64aed-afa6-4903-d368-52484074b5e5"
   },
   "outputs": [],
   "source": [
    "fig3 , ax3 = plt.subplots()\n",
    "fig3.set_size_inches(10,7)\n",
    "\n",
    "housing_sample.plot(x = 'Lng' , y ='Lat' ,ax = ax3, kind = 'scatter', alpha = 0.2,\\\n",
    "    s = housing_sample['distanceToCapital'] * 4)\n",
    "\n",
    "ax3.axis('equal');"
   ]
  },
  {
   "attachments": {},
   "cell_type": "markdown",
   "metadata": {
    "id": "o7elSyOdY4W6"
   },
   "outputs": [],
   "source": [
    "<p dir=rtl style=\"direction: rtl;text-align: justify;line-height:200%;font-family:vazir;font-size:medium\">\n",
    "<font face=\"vazir\" size=3>\n",
    "در شکل بالا رنگ همه‌ی نقاط یکسان است ولی اندازه‌ی آنها متناسب با فاصله‌ی هر خانه از مرکز شهر مشخص شده است. هر چه این عدد بزرگ‌تر باشد، نقاط روی نمودار بزرگتر نمایش داده می‌شوند. ضریب ۴ برای ۴ برابر شدن اندازه‌ی همه‌ی نقاط است. انتخاب ضریب نیاز به کمی آزمون و خطا دارد.\n",
    "</font>\n",
    "</p>"
   ]
  },
  {
   "attachments": {},
   "cell_type": "markdown",
   "metadata": {
    "id": "P10b8LnUbgS3"
   },
   "outputs": [],
   "source": [
    "<p dir=rtl style=\"direction: rtl;text-align: justify;line-height:200%;font-family:vazir;font-size:medium\">\n",
    "<font face=\"vazir\" size=3>\n",
    "می‌توان عکس این منطقه از جهان را پشت نقاط رسم شده قرار داد تا دیدی واقعی‌تر نسبت به محل قرار‌گیری خانه‌ها به‌دست آوریم. با استفاده از محدوده‌ی محور افقی و عمودی نمودار، محدوده‌ی مورد نظر را با استفاده از نقشه‌های گوگل دریافت کرده‌ایم که در عکس <code>map1</code>  ذخیره شده است. با استفاده از متد <code>imshow</code> این عکس را پشت نمودار قرار می‌دهیم:\n",
    "</font>\n",
    "</p>"
   ]
  },
  {
   "cell_type": "code",
   "execution_count": 69,
   "metadata": {
    "colab": {
     "base_uri": "https://localhost:8080/",
     "height": 442
    },
    "id": "FjjgP60CY4Ny",
    "outputId": "113d82b0-377e-48cd-9b7c-131cf6eca526"
   },
   "outputs": [],
   "source": [
    "import matplotlib.image as mpimg\n",
    "\n",
    "beijing_img = mpimg.imread('map1.jpg')\n",
    "ax3.imshow(beijing_img, extent=[115.89777890444654, 116.90711309555346, 39.5957436, 40.2840444])\n",
    "fig3"
   ]
  },
  {
   "attachments": {},
   "cell_type": "markdown",
   "metadata": {},
   "outputs": [],
   "source": [
    "<h2 dir=rtl align=right style=\"line-height:200%;font-family:vazir;color:#0099cc\">\n",
    "<font face=\"vazir\" color=\"#0099cc\">\n",
    "توضیحات پارامتر <code>extent</code>\n",
    "</font>\n",
    "</h2>\n",
    "<p dir=rtl style=\"direction: rtl;text-align: justify;line-height:200%;font-family:vazir;font-size:medium\">\n",
    "<font face=\"vazir\" size=3>\n",
    "وقتی از متد <code>imshow</code> استفاده می‌کنیم، باید حواس‌مان باشد که عکس در چه نقطه‌ای رسم می‌شود. در حالت حادی عکس در مختصات <code>(0,0)</code> رسم می‌شود و به اندازه‌ی تعداد پیکسل‌های عکس، روی نمودار کش داده می‌شود. اگر به نمودار قبلی دقت کرده باشید می‌بینید که نمودار خانه‌ها در حدود بازه‌ی <code>115</code> تا <code>117</code> محور افقی و بازه‌ی <code>39.6</code> تا <code>40.2</code> بازه‌ی عمودی رسم‌ شده است.\n",
    "<br>\n",
    "ما ابتدا با استفاده از متد <code>get_xlim</code> و <code>get_ylim</code> بازه‌ی دقیق نمودار قبلی را به‌دست آوردیم سپس با استفاده از پارامتر <code>extent</code> محدوده‌ی رسم عکس را دقیقاً بر روی نمودار قبلی منطبق کردیم.\n",
    "</font>\n",
    "</p>\n"
   ]
  },
  {
   "attachments": {},
   "cell_type": "markdown",
   "metadata": {
    "id": "F0OjuIECcmVm"
   },
   "outputs": [],
   "source": [
    "<h2 align=right style=\"line-height:200%;font-family:vazir;color:#0099cc\">\n",
    "<font face=\"vazir\" color=\"#0099cc\">\n",
    "قسمت دوم\n",
    "</font>\n",
    "</h2>\n",
    "<p dir=rtl style=\"direction: rtl;text-align: justify;line-height:200%;font-family:vazir;font-size:medium\">\n",
    "<font face=\"vazir\" size=3>\n",
    "    نمودار شکل قبل‌ را در ابعاد <code>12.5</code> در <code>7</code> اینچ بکشید و این ‌بار از ستون منطقه (<code>district</code>)  برای رنگ دادن به نقاط استفاده کنید. برای تعیین سایز نقاط هم از ستون متراژ (<code>square</code>) استفاده کنید. توجه داشته باشید که به‌دلیل بزرگ بودن اعداد ستون متراژ، آن‌ها را تقسیم بر ۲۰ کنید. از نگاشت رنگ <code>nipy_spectral</code>\n",
    "    برای تبدیل اعداد به رنگ استفاده کنید. مقدار <code>alpha</code>  را نیز برابر <code>0.6</code> قرار دهید.\n",
    "<br>\n",
    "<br>\n",
    "<p style=\"text-align:center; background-color:white\"><img src=\"output.png\"></p></font>\n",
    "</p>\n"
   ]
  },
  {
   "cell_type": "code",
   "execution_count": 70,
   "metadata": {
    "colab": {
     "base_uri": "https://localhost:8080/",
     "height": 460
    },
    "id": "u8uqH0YUYgmM",
    "outputId": "b6f042e5-7c0c-46e3-9baf-a99c0620a3c6"
   },
   "outputs": [],
   "source": [
    "fig4, ax4 = plt.subplots()\n",
    "\n",
    "fig4.set_size_inches(12.5,7)\n",
    "\n",
    "housing_sample.plot(x = 'Lng' , y ='Lat' ,ax = ax4, kind = 'scatter', alpha = 0.6,\\\n",
    "                    s = housing_sample['square'] / 20 ,c='district', cmap=plt.get_cmap(\"nipy_spectral\"), colorbar=True)\n",
    "\n",
    "ax4.axis('equal');\n",
    "ax4.imshow(beijing_img, extent=[115.89777890444654, 116.90711309555346, 39.5957436, 40.2840444])\n",
    "\n"
   ]
  },
  {
   "attachments": {},
   "cell_type": "markdown",
   "metadata": {
    "id": "8z4prIXuhSGL"
   },
   "outputs": [],
   "source": [
    "<h2 align=right style=\"line-height:200%;font-family:vazir;color:#0099cc\">\n",
    "<font face=\"vazir\" color=\"#0099cc\">\n",
    "قسمت سوم\n",
    "</font>\n",
    "</h2>\n",
    "<p dir=rtl style=\"direction: rtl;text-align: justify;line-height:200%;font-family:vazir;font-size:medium\">\n",
    "<font face=\"vazir\" size=3>\n",
    "حال نمودار ایجاد‌شده در قسمت دوم را با اعمال این تغییرات دوباره ترسیم کنید:\n",
    "<ul dir=rtl>\n",
    "  <li>\n",
    "فقط خانه‌هایی که در فاصله‌ی بین ۱۰ تا ۳۰ کیلومتری از مرکز هستند را رسم کنید (خود ۱۰ و ۳۰ در بازه نیستند).\n",
    "</li>\n",
    "  <li>\n",
    "به جای فایل <code>map1</code> از فایل <code>map2</code> در زمینه‌ی عکس استفاده کنید.\n",
    "</li>\n",
    "\n",
    "</ul>\n",
    "\n",
    "</font>\n",
    "</p>\n",
    "\n"
   ]
  },
  {
   "cell_type": "code",
   "execution_count": 71,
   "metadata": {
    "colab": {
     "base_uri": "https://localhost:8080/",
     "height": 465
    },
    "id": "FGPpv4kxdBJl",
    "outputId": "c964c361-3d7b-4eb9-fc8c-904f8ac374e8"
   },
   "outputs": [],
   "source": [
    "fig5, ax5 = plt.subplots()\n",
    "\n",
    "cond1 = housing_sample['distanceToCapital'] < 30\n",
    "cond2 = housing_sample['distanceToCapital'] > 10\n",
    "housing_sample = housing_sample[(cond1)&(cond2)]\n",
    "\n",
    "fig5.set_size_inches(12.5,7)\n",
    "\n",
    "housing_sample.plot(x = 'Lng' , y ='Lat' ,ax = ax5, kind = 'scatter', alpha = 0.6,\\\n",
    "                    s = housing_sample['square'] / 20 ,c='district', cmap=plt.get_cmap(\"nipy_spectral\"), colorbar=True)\n",
    "\n",
    "ax5.axis('equal');\n",
    "beijing_img2 = mpimg.imread('map2.jpg')\n",
    "ax5.imshow(beijing_img2, extent=[115.89777890444654, 116.90711309555346, 39.5957436, 40.2840444])"
   ]
  },
  {
   "attachments": {},
   "cell_type": "markdown",
   "metadata": {},
   "outputs": [],
   "source": [
    "<p dir=rtl style=\"direction: rtl;text-align: justify;line-height:200%;font-family:vazir;font-size:medium\">\n",
    "<font face=\"vazir\" size=3>\n",
    "در این گام تغییری در دیتافریم ندادیم و در گام بعد هم دوباره از فایل <code>housing_extended.csv</code> استفاده خواهیم کرد.\n",
    "</font>\n",
    "</p>\n"
   ]
  },
  {
   "attachments": {},
   "cell_type": "markdown",
   "metadata": {},
   "outputs": [],
   "source": [
    "<h2 align=right style=\"line-height:200%;font-family:vazir;color:#0099cc\">\n",
    "<font face=\"vazir\" color=\"#0099cc\">\n",
    "<b>سلول جواب‌ساز</b>\n",
    "</font>\n",
    "</h2>\n",
    "\n",
    "\n",
    "<p dir=rtl style=\"direction: rtl; text-align: justify; line-height:200%; font-family:vazir; font-size:medium\">\n",
    "<font face=\"vazir\" size=3>\n",
    "    برای ساخته‌شدن فایل <code>result.zip</code> سلول زیر را اجرا کنید. توجه داشته باشید که پیش از اجرای سلول زیر تغییرات اعمال شده در نت‌بوک را ذخیره کرده باشید (<code>ctrl+s</code>) تا در صورت نیاز به پشتیبانی امکان بررسی کد شما وجود داشته باشد.\n",
    "</font>\n",
    "</p>\n"
   ]
  },
  {
   "cell_type": "code",
   "execution_count": null,
   "metadata": {},
   "outputs": [],
   "source": [
    "import zipfile\n",
    "import joblib\n",
    "import json\n",
    "\n",
    "import nbformat as nbf\n",
    "ntbk = nbf.read(\"4_show_on_map.ipynb\", nbf.NO_CONVERT)\n",
    "new_ntbk = ntbk\n",
    "for cell in ntbk.cells:\n",
    "    cell['outputs']=[]\n",
    "\n",
    "nbf.write(new_ntbk, \"4_show_on_map_no_output.ipynb\", version=nbf.NO_CONVERT)\n",
    "joblib.dump(fig2,\"fig2\")\n",
    "joblib.dump(fig4,\"fig4\")\n",
    "joblib.dump(fig5,\"fig5\")\n",
    "\n",
    "def compress(file_names):\n",
    "    print(\"File Paths:\")\n",
    "    print(file_names)\n",
    "    compression = zipfile.ZIP_DEFLATED\n",
    "    with zipfile.ZipFile(\"result.zip\", mode=\"w\") as zf:\n",
    "        for file_name in file_names:\n",
    "            zf.write('./' + file_name, file_name, compress_type=compression)\n",
    "\n",
    "file_names = [\"fig2\", \"fig4\", \"fig5\", '4_show_on_map_no_output.ipynb']\n",
    "compress(file_names)"
   ]
  }
 ],
 "metadata": {
  "colab": {
   "collapsed_sections": [],
   "name": "step4.ipynb",
   "provenance": []
  },
  "kernelspec": {
   "display_name": "qenv",
   "language": "python",
   "name": "qenv"
  },
  "language_info": {
   "codemirror_mode": {
    "name": "ipython",
    "version": 3
   },
   "file_extension": ".py",
   "mimetype": "text/x-python",
   "name": "python",
   "nbconvert_exporter": "python",
   "pygments_lexer": "ipython3",
   "version": "3.11.4"
  },
  "vscode": {
   "interpreter": {
    "hash": "44e7e1b8fa2096bd5707ed7fd18b1724a2db25f4c565a7673f8b6e7bfc49d25d"
   }
  }
 },
 "nbformat": 4,
 "nbformat_minor": 4
}
