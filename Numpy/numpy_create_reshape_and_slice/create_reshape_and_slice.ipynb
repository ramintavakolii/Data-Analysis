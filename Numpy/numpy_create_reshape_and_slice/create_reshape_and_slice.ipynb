{
 "cells": [
  {
   "cell_type": "markdown",
   "metadata": {},
   "source": [
    "<h1 align=center style=\"line-height:200%;font-family:vazir;color:#0099cc\">\n",
    "<font face=\"vazir\" color=\"#0099cc\">\n",
    "ایجاد، تغییر شکل و برش آرایه‌ها\n",
    "</font>\n",
    "</h1>\n"
   ]
  },
  {
   "attachments": {},
   "cell_type": "markdown",
   "metadata": {},
   "source": [
    "<p dir=rtl style=\"direction: rtl;text-align: justify;line-height:200%;font-family:vazir;font-size:medium\">\n",
    "<font face=\"vazir\" size=3>\n",
    "در این تمرین، ابتدا تعدادی آرایه ایجاد می‌کنیم. سپس ابعاد آنها را تغییر می‌دهیم و آرایه‌های جدیدی می‌سازیم. در آخر با استفاده از ویژگی <code>slicing</code> نامپای، قسمتی از آرایه‌ها را برش می‌دهیم. برای گرفتن نمره کامل این سوال، باید همه متغیر‌ها را درست به دست آورید.\n",
    "</font>\n",
    "</p>"
   ]
  },
  {
   "cell_type": "code",
   "execution_count": 1,
   "metadata": {},
   "outputs": [],
   "source": [
    "import numpy as np"
   ]
  },
  {
   "cell_type": "code",
   "execution_count": 4,
   "metadata": {},
   "outputs": [
    {
     "name": "stdout",
     "output_type": "stream",
     "text": [
      "(5,)\n",
      "[[1 2 3 4 5]]\n",
      "(1, 5)\n"
     ]
    }
   ],
   "source": [
    "a = np.array([1, 2, 3, 4, 5])\n",
    "print(a.shape)\n",
    "a = a.reshape(1,5)\n",
    "print(a)\n",
    "print(a.shape)"
   ]
  },
  {
   "attachments": {},
   "cell_type": "markdown",
   "metadata": {},
   "source": [
    "<h2 align=right style=\"line-height:200%;font-family:vazir;color:#0099cc\">\n",
    "<font face=\"vazir\" color=\"#0099cc\">\n",
    "بخش اول: ساخت آرایه‌ها\n",
    "</font>\n",
    "</h2>\n"
   ]
  },
  {
   "attachments": {},
   "cell_type": "markdown",
   "metadata": {},
   "source": [
    "<p dir=rtl style=\"direction: rtl;text-align: justify;line-height:200%;font-family:vazir;font-size:medium\">\n",
    "<font face=\"vazir\" size=3>\n",
    "    یک آرایه یک بعدی نامپای به نام <code>a</code>  بسازید که اعداد ۱ تا ۶۴ در آن ذخیره شده باشد. خود ۱ و ۶۴ هم جزو اعداد هستند.\n",
    "</font>\n",
    "</p>"
   ]
  },
  {
   "cell_type": "code",
   "execution_count": 40,
   "metadata": {},
   "outputs": [
    {
     "name": "stdout",
     "output_type": "stream",
     "text": [
      "[ 1  2  3  4  5  6  7  8  9 10 11 12 13 14 15 16 17 18 19 20 21 22 23 24\n",
      " 25 26 27 28 29 30 31 32 33 34 35 36 37 38 39 40 41 42 43 44 45 46 47 48\n",
      " 49 50 51 52 53 54 55 56 57 58 59 60 61 62 63 64]\n"
     ]
    }
   ],
   "source": [
    "a = np.arange(1,65)\n",
    "print(a)"
   ]
  },
  {
   "attachments": {},
   "cell_type": "markdown",
   "metadata": {},
   "source": [
    "<p dir=rtl style=\"direction: rtl;text-align: justify;line-height:200%;font-family:vazir;font-size:medium\">\n",
    "<font face=\"vazir\" size=3>\n",
    "    با کمک گرفتن از توابع عمومی نامپای، آرایه <code>b</code> را ایجاد کنید که سینوس مقادیر ذخیره شده در آرایه <code>a</code> می‌باشد.</font>\n",
    "</p>"
   ]
  },
  {
   "cell_type": "code",
   "execution_count": 41,
   "metadata": {},
   "outputs": [],
   "source": [
    "b = np.sin(a)\n"
   ]
  },
  {
   "attachments": {},
   "cell_type": "markdown",
   "metadata": {},
   "source": [
    "<p dir=rtl style=\"direction: rtl;text-align: justify;line-height:200%;font-family:vazir;font-size:medium\">\n",
    "<font face=\"vazir\" size=3>\n",
    "    یک آرایه یک بعدی نامپای به نام <code>c</code> بسازید که شامل ۳۰ عدد بین ۱ و ۱۰۰ (شامل خود ۱ و ۱۰۰) با فاصله‌ی برابر باشد، نوع داده را برابر عدد حقیقی ۱۶ بیتی <code>float16</code>  قرار دهید.\n",
    "</font>\n",
    "<br>\n",
    "<font face=\"vazir\" size=3 color=\"green\">\n",
    "    <b>راهنمایی:</b>\n",
    "</font>\n",
    "<font face=\"vazir\" size=3>\n",
    "    بدین منظور می‌توانید از تابع <a href=\"https://numpy.org/doc/stable/reference/generated/numpy.linspace.html\"><code>linspace</code></a> کتابخانه‌ی نامپای بهره ببرید. کافیست اعداد شروع و پایان بازه و همچنین تعداد موردنظر خود را برای این تابع مشخص کنید، تا به تولید آن تعداد عدد در بازه‌ی موردنظر شما و با فاصله‌های برابر بپردازد.\n",
    "</font>\n",
    "</p>\n"
   ]
  },
  {
   "cell_type": "code",
   "execution_count": 43,
   "metadata": {},
   "outputs": [
    {
     "name": "stdout",
     "output_type": "stream",
     "text": [
      "[  1.      4.414   7.83   11.24   14.66   18.06   21.48   24.89   28.31\n",
      "  31.72   35.12   38.56   41.97   45.38   48.78   52.22   55.62   59.03\n",
      "  62.44   65.9    69.25   72.7    76.1    79.5    82.94   86.4    89.75\n",
      "  93.2    96.56  100.   ]\n"
     ]
    }
   ],
   "source": [
    "c = np.linspace(1,100,30,dtype = 'float16')\n",
    "print(c)"
   ]
  },
  {
   "attachments": {},
   "cell_type": "markdown",
   "metadata": {},
   "source": [
    "<p dir=rtl style=\"direction: rtl;text-align: justify;line-height:200%;font-family:vazir;font-size:medium\">\n",
    "<font face=\"vazir\" size=3>\n",
    "    یک آرایه‌ی یک بعدی نامپای به نام <code>d</code> بسازید که اولین عدد آن ۱۲۵ و آخرین عدد آن ۱ باشد. یعنی اعداد از ۱۲۵ تا ۱ یکی یکی کم شوند.\n",
    "</font>\n",
    "</p>\n"
   ]
  },
  {
   "cell_type": "code",
   "execution_count": 56,
   "metadata": {},
   "outputs": [
    {
     "name": "stdout",
     "output_type": "stream",
     "text": [
      "[125 124 123 122 121 120 119 118 117 116 115 114 113 112 111 110 109 108\n",
      " 107 106 105 104 103 102 101 100  99  98  97  96  95  94  93  92  91  90\n",
      "  89  88  87  86  85  84  83  82  81  80  79  78  77  76  75  74  73  72\n",
      "  71  70  69  68  67  66  65  64  63  62  61  60  59  58  57  56  55  54\n",
      "  53  52  51  50  49  48  47  46  45  44  43  42  41  40  39  38  37  36\n",
      "  35  34  33  32  31  30  29  28  27  26  25  24  23  22  21  20  19  18\n",
      "  17  16  15  14  13  12  11  10   9   8   7   6   5   4   3   2   1]\n"
     ]
    }
   ],
   "source": [
    "d = np.linspace(125,1,125,dtype='int')\n",
    "print(d)"
   ]
  },
  {
   "attachments": {},
   "cell_type": "markdown",
   "metadata": {},
   "source": [
    "<h2 align=right style=\"direction:rtl;line-height:200%;font-family:vazir;color:#0099cc\">\n",
    "<font face=\"vazir\" color=\"#0099cc\">\n",
    "بخش دوم: بازآرایی (reshape) </font>\n",
    "</h2>\n"
   ]
  },
  {
   "attachments": {},
   "cell_type": "markdown",
   "metadata": {},
   "source": [
    "<p dir=rtl style=\"direction: rtl;text-align: justify;line-height:200%;font-family:vazir;font-size:medium\">\n",
    "<font face=\"vazir\" size=3>\n",
    "    در این بخش، آرایه‌های <code>c</code> و <code>d</code> که در بخش قبل ساختید را به آرایه‌هایی دو بعدی و سه بعدی تبدیل می‌کنید. برای این‌کار نیاز است از تابع <code>reshape</code> استفاده کنید.\n",
    "</font>\n",
    "</p>\n"
   ]
  },
  {
   "attachments": {},
   "cell_type": "markdown",
   "metadata": {},
   "source": [
    "<p dir=rtl style=\"direction: rtl;text-align: justify;line-height:200%;font-family:vazir;font-size:medium\">\n",
    "<font face=\"vazir\" size=3>\n",
    "    ابتدا آرایه‌ی <code>c</code> را به آرایه‌ای دو بعدی با اندازه ۵ در محور اول و اندازه ۶ در محور دوم تبدیل کنید و در متغیر <code>e</code> ذخیره کنید.\n",
    "</font>\n",
    "<br>\n",
    "<font face=\"vazir\" size=3 color=\"#0099cc\">\n",
    "    <b>نکته:</b>\n",
    "</font>\n",
    "<font face=\"vazir\" size=3>\n",
    "توجه داشته باید که در تمام تصاویر این تمرین هر مکعب به معنای یک عنصر (یک مقدار از آرایه) است.\n",
    "</font>\n",
    "</p>\n",
    "\n",
    "\n",
    "<center>\n",
    "<div style=\"max-width: 100%\">\n",
    "<img src=\"e_preview.jpg\">\n",
    "</div>\n",
    "</center>"
   ]
  },
  {
   "cell_type": "code",
   "execution_count": 55,
   "metadata": {},
   "outputs": [
    {
     "name": "stdout",
     "output_type": "stream",
     "text": [
      "(30,)\n"
     ]
    }
   ],
   "source": [
    "e = c.reshape((5,6))\n",
    "print(e.shape)"
   ]
  },
  {
   "attachments": {},
   "cell_type": "markdown",
   "metadata": {},
   "source": [
    "<p dir=rtl style=\"direction: rtl;text-align: justify;line-height:200%;font-family:vazir;font-size:medium\">\n",
    "<font face=\"vazir\" size=3>\n",
    "    اکنون آرایه‌ی <code>d</code> را به آرایه‌ای سه بعدی با اندازه‌ی ۵ در هر سه محور تبدیل کنید و در متغیر <code>f</code> ذخیره کنید.</font>\n",
    "</p>\n",
    "\n",
    "<center>\n",
    "<div style=\"max-width: 600px\">\n",
    "<img src=\"f_preview.jpg\">\n",
    "</div>\n",
    "</center>\n"
   ]
  },
  {
   "cell_type": "code",
   "execution_count": 45,
   "metadata": {},
   "outputs": [
    {
     "name": "stdout",
     "output_type": "stream",
     "text": [
      "(5, 5, 5)\n"
     ]
    }
   ],
   "source": [
    "f = d.reshape((5,5,5))\n",
    "print(f.shape)"
   ]
  },
  {
   "attachments": {},
   "cell_type": "markdown",
   "metadata": {},
   "source": [
    "<h2 align=right style=\"line-height:200%;font-family:vazir;color:#0099cc\">\n",
    "<font face=\"vazir\" color=\"#0099cc\">\n",
    "(slice) بخش سوم: برش\n",
    "</font>\n",
    "</h2>\n"
   ]
  },
  {
   "attachments": {},
   "cell_type": "markdown",
   "metadata": {},
   "source": [
    "<p dir=rtl style=\"direction: rtl;text-align: justify;line-height:200%;font-family:vazir;font-size:medium\">\n",
    "<font face=\"vazir\" size=3>\n",
    "    آرایه‌ی دو‌بعدی <code>e</code> را مطابق شکل زیر برش دهید و در متغیر <code>g</code> ذخیره کنید. یعنی در متغیر <code>g</code> تنها باید مواردی که در ماتریس زیر پررنگ شده‌اند را خروجی دهید، یعنی ماتریس خروجی شما باید دارای ابعاد ۳ در ۳ باشد.</p>\n",
    "\n",
    "<center>\n",
    "<div style=\"max-width: 600px\">\n",
    "<img src=\"g_preview.jpg\">\n",
    "</div>\n",
    "</center>"
   ]
  },
  {
   "cell_type": "code",
   "execution_count": 49,
   "metadata": {},
   "outputs": [
    {
     "name": "stdout",
     "output_type": "stream",
     "text": [
      "[[  1.      4.414   7.83   11.24   14.66   18.06 ]\n",
      " [ 21.48   24.89   28.31   31.72   35.12   38.56 ]\n",
      " [ 41.97   45.38   48.78   52.22   55.62   59.03 ]\n",
      " [ 62.44   65.9    69.25   72.7    76.1    79.5  ]\n",
      " [ 82.94   86.4    89.75   93.2    96.56  100.   ]]\n",
      "[[  4.414  11.24   18.06 ]\n",
      " [ 45.38   52.22   59.03 ]\n",
      " [ 86.4    93.2   100.   ]]\n"
     ]
    }
   ],
   "source": [
    "g = e[0:6:2,1:7:2]\n",
    "print(e)\n",
    "print(g)"
   ]
  },
  {
   "attachments": {},
   "cell_type": "markdown",
   "metadata": {},
   "source": [
    "<p dir=rtl style=\"direction: rtl;text-align: justify;line-height:200%;font-family:vazir;font-size:medium\">\n",
    "<font face=\"vazir\" size=3>\n",
    "    آرایه‌ی سه‌بعدی <code>f</code> را مطابق شکل زیر برش دهید و در متغیر <code>h</code> بریزید. آرایه‌ی خروجی، سه‌بعدی و دارای ۸ عدد خواهد بود (هرکدام از مکعب‌ها یک عنصر از آرایه هستند و مجموعاً ۸ مکعب پررنگ نشان داده شده است).\n",
    "</p>\n",
    "\n",
    "<center>\n",
    "<div style=\"max-width: 600px\">\n",
    "<img src=\"h_preview.jpg\">\n",
    "</div>\n",
    "</center>"
   ]
  },
  {
   "cell_type": "code",
   "execution_count": 59,
   "metadata": {},
   "outputs": [
    {
     "name": "stdout",
     "output_type": "stream",
     "text": [
      "[[[125. 124. 123. 122. 121.]\n",
      "  [120. 119. 118. 117. 116.]\n",
      "  [115. 114. 113. 112. 111.]\n",
      "  [110. 109. 108. 107. 106.]\n",
      "  [105. 104. 103. 102. 101.]]\n",
      "\n",
      " [[100.  99.  98.  97.  96.]\n",
      "  [ 95.  94.  93.  92.  91.]\n",
      "  [ 90.  89.  88.  87.  86.]\n",
      "  [ 85.  84.  83.  82.  81.]\n",
      "  [ 80.  79.  78.  77.  76.]]\n",
      "\n",
      " [[ 75.  74.  73.  72.  71.]\n",
      "  [ 70.  69.  68.  67.  66.]\n",
      "  [ 65.  64.  63.  62.  61.]\n",
      "  [ 60.  59.  58.  57.  56.]\n",
      "  [ 55.  54.  53.  52.  51.]]\n",
      "\n",
      " [[ 50.  49.  48.  47.  46.]\n",
      "  [ 45.  44.  43.  42.  41.]\n",
      "  [ 40.  39.  38.  37.  36.]\n",
      "  [ 35.  34.  33.  32.  31.]\n",
      "  [ 30.  29.  28.  27.  26.]]\n",
      "\n",
      " [[ 25.  24.  23.  22.  21.]\n",
      "  [ 20.  19.  18.  17.  16.]\n",
      "  [ 15.  14.  13.  12.  11.]\n",
      "  [ 10.   9.   8.   7.   6.]\n",
      "  [  5.   4.   3.   2.   1.]]]\n",
      "[[[110. 109.]\n",
      "  [105. 104.]]\n",
      "\n",
      " [[ 85.  84.]\n",
      "  [ 80.  79.]]]\n",
      "(2, 2, 2)\n"
     ]
    }
   ],
   "source": [
    "h = f[0:2,3:6,0:2]\n",
    "print(f)\n",
    "print(h)\n",
    "print(h.shape)"
   ]
  },
  {
   "attachments": {},
   "cell_type": "markdown",
   "metadata": {},
   "source": [
    "<h2 align=right style=\"line-height:200%;font-family:vazir;color:#0099cc\">\n",
    "<font face=\"vazir\" color=\"#0099cc\">\n",
    "<b>سلول جواب‌ساز</b>\n",
    "</font>\n",
    "</h2>\n",
    "\n",
    "\n",
    "<p dir=rtl style=\"direction: rtl; text-align: justify; line-height:200%; font-family:vazir; font-size:medium\">\n",
    "<font face=\"vazir\" size=3>\n",
    "    برای ساخته‌شدن فایل <code>result.zip</code> سلول زیر را اجرا کنید. توجه داشته باشید که پیش از اجرای سلول زیر تغییرات اعمال شده در نت‌بوک را ذخیره کرده باشید (<code>ctrl+s</code>) تا در صورت نیاز به پشتیبانی امکان بررسی کد شما وجود داشته باشد.\n",
    "</font>\n",
    "</p>"
   ]
  },
  {
   "cell_type": "code",
   "execution_count": 60,
   "metadata": {},
   "outputs": [
    {
     "name": "stdout",
     "output_type": "stream",
     "text": [
      "File Paths:\n",
      "['answers.npz', 'create_reshape_and_slice.ipynb']\n"
     ]
    }
   ],
   "source": [
    "import zlib\n",
    "import zipfile\n",
    "\n",
    "np.savez(\"answers.npz\", a = a, b = b, c = c, d = d, e = e, f = f, g = g, h = h)\n",
    "\n",
    "def compress(file_names):\n",
    "    print(\"File Paths:\")\n",
    "    print(file_names)\n",
    "    compression = zipfile.ZIP_DEFLATED\n",
    "    with zipfile.ZipFile(\"result.zip\", mode=\"w\") as zf:\n",
    "        for file_name in file_names:\n",
    "            zf.write('./' + file_name, file_name, compress_type=compression)\n",
    "\n",
    "file_names = [\"answers.npz\", \"create_reshape_and_slice.ipynb\"]\n",
    "compress(file_names)"
   ]
  }
 ],
 "metadata": {
  "interpreter": {
   "hash": "243856ee5aa5cfcf7c7fc5e27ace1f0d0cf471c324fa5d741db742eb1bed0a33"
  },
  "kernelspec": {
   "display_name": "qenv",
   "language": "python",
   "name": "qenv"
  },
  "language_info": {
   "codemirror_mode": {
    "name": "ipython",
    "version": 3
   },
   "file_extension": ".py",
   "mimetype": "text/x-python",
   "name": "python",
   "nbconvert_exporter": "python",
   "pygments_lexer": "ipython3",
   "version": "3.11.4"
  }
 },
 "nbformat": 4,
 "nbformat_minor": 2
}
