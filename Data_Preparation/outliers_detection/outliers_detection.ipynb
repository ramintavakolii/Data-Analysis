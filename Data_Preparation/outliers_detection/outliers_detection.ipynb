{
 "cells": [
  {
   "attachments": {},
   "cell_type": "markdown",
   "metadata": {},
   "source": [
    "<div align=center style=\"line-height:200%;font-family:vazir;font-size:medium;color:#0099cc\">\n",
    "<h1>\n",
    "تشخیص داده‌های پرت</h1>\n",
    "</p>\n",
    "</div>\n",
    "\n",
    "\n",
    "\n"
   ]
  },
  {
   "cell_type": "code",
   "execution_count": 32,
   "metadata": {},
   "outputs": [],
   "source": [
    "import numpy as np\n",
    "import pandas as pd"
   ]
  },
  {
   "cell_type": "code",
   "execution_count": 33,
   "metadata": {},
   "outputs": [
    {
     "name": "stdout",
     "output_type": "stream",
     "text": [
      "[  -6    3   -1   -2   -6    8    6    2    1  -10 -100   -2    9  -10\n",
      "    0    8   -8   -2   -8    9    6    7   -1    2    5    5   -2   50\n",
      "   -7   -9]\n"
     ]
    },
    {
     "data": {
      "text/plain": [
       "array([-100,  -10,  -10,   -9,   -8,   -8,   -7,   -6,   -6,   -2,   -2,\n",
       "         -2,   -2,   -1,   -1,    0,    1,    2,    2,    3,    5,    5,\n",
       "          6,    6,    7,    8,    8,    9,    9,   50])"
      ]
     },
     "execution_count": 33,
     "metadata": {},
     "output_type": "execute_result"
    }
   ],
   "source": [
    "seri = pd.Series(np.random.randint(-10,10, size = 30))\n",
    "seri[10] = -100\n",
    "seri[27] = 50\n",
    "# print(seri)\n",
    "a = np.array(seri)\n",
    "print(a)\n",
    "np.sort(a)"
   ]
  },
  {
   "cell_type": "code",
   "execution_count": 34,
   "metadata": {},
   "outputs": [
    {
     "name": "stdout",
     "output_type": "stream",
     "text": [
      "first quartile = -6.0\n",
      "third quartile = 5.75\n"
     ]
    }
   ],
   "source": [
    "Q1 = seri.quantile(0.25)\n",
    "Q3 = seri.quantile(0.75)\n",
    "print(f\"first quartile = {Q1}\")\n",
    "print(f\"third quartile = {Q3}\")"
   ]
  },
  {
   "cell_type": "code",
   "execution_count": 35,
   "metadata": {},
   "outputs": [
    {
     "name": "stdout",
     "output_type": "stream",
     "text": [
      "11.75\n",
      "Index([10, 27], dtype='int64')\n"
     ]
    },
    {
     "data": {
      "text/plain": [
       "array([ -6,   3,  -1,  -2,  -6,   8,   6,   2,   1, -10,  -2,   9, -10,\n",
       "         0,   8,  -8,  -2,  -8,   9,   6,   7,  -1,   2,   5,   5,  -2,\n",
       "        -7,  -9])"
      ]
     },
     "execution_count": 35,
     "metadata": {},
     "output_type": "execute_result"
    }
   ],
   "source": [
    "IQR = Q3 - Q1\n",
    "print(IQR)\n",
    "print(seri[(seri.values < Q1 - 1.5*IQR) | (seri.values > Q3 + 1.5*IQR)].index)\n",
    "seri.drop(seri[(seri.values < Q1 - 1.5*IQR) | (seri.values > Q3 + 1.5*IQR)].index , inplace = True)\n",
    "np.array(seri)"
   ]
  },
  {
   "cell_type": "markdown",
   "metadata": {},
   "source": []
  }
 ],
 "metadata": {
  "kernelspec": {
   "display_name": "qenv",
   "language": "python",
   "name": "qenv"
  },
  "language_info": {
   "codemirror_mode": {
    "name": "ipython",
    "version": 3
   },
   "file_extension": ".py",
   "mimetype": "text/x-python",
   "name": "python",
   "nbconvert_exporter": "python",
   "pygments_lexer": "ipython3",
   "version": "3.11.4"
  },
  "orig_nbformat": 4
 },
 "nbformat": 4,
 "nbformat_minor": 2
}
