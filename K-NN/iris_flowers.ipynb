{
 "cells": [
  {
   "attachments": {},
   "cell_type": "markdown",
   "id": "acc137fd",
   "metadata": {},
   "source": [
    "<h1 align=center style=\"line-height:200%;font-family:vazir;color:#0099cc\">\n",
    "<font face=\"vazir\" color=\"#0099cc\">\n",
    "گل‌های زنبق\n",
    "</font>\n",
    "</h1>\n",
    "\n",
    "<p dir=rtl style=\"direction: rtl;text-align: justify;line-height:200%;font-family:vazir;font-size:medium\">\n",
    "<font face=\"vazir\" size=3>\n",
    "در این تمرین، می‌خواهیم به پیاده‌سازی الگوریتمی به نام «k نزدیک ترین همسایه» یا <a href=\"https://fa.wikipedia.org/wiki/%D8%A7%D9%84%DA%AF%D9%88%D8%B1%DB%8C%D8%AA%D9%85_%DA%A9%DB%8C-%D9%86%D8%B2%D8%AF%DB%8C%DA%A9%E2%80%8C%D8%AA%D8%B1%DB%8C%D9%86_%D9%87%D9%85%D8%B3%D8%A7%DB%8C%D9%87\" target=\"_blank\" style=\"color:#0099cc\">k-NN</a> بپردازیم که از الگوریتم‌های رایج یادگیری ماشین به حساب می‌آید. با انجام این تمرین، موضوعاتی چون محاسبات برداری به کمک پخش آرایه‌ها، استفاده از توابع تجمیعی و عمومی نامپای و نمایه‌سازی به کمک آرایه‌ها را مرور خواهیم کرد.\n",
    "</font>\n",
    "</p>"
   ]
  },
  {
   "cell_type": "code",
   "execution_count": 3,
   "id": "2b198b84",
   "metadata": {},
   "outputs": [],
   "source": [
    "import numpy as np"
   ]
  },
  {
   "attachments": {},
   "cell_type": "markdown",
   "id": "99cd4e8f",
   "metadata": {},
   "source": [
    "<h2 align=right style=\"line-height:200%;font-family:vazir;color:#0099cc\">\n",
    "<font face=\"vazir\" color=\"#0099cc\">\n",
    "مجموعه‌داده\n",
    "</font>\n",
    "</h2>\n",
    "\n",
    "<p dir=rtl style=\"direction: rtl;text-align: justify;line-height:200%;font-family:vazir;font-size:medium\">\n",
    "<font face=\"vazir\" size=3>\n",
    "در این تمرین یک مجموعه‌داده‌ی معروف به نام <a href=\"https://en.wikipedia.org/wiki/Iris_flower_data_set\" target=\"_blank\" style=\"color:#0099cc\">Iris Flower</a> (گل‌های زنبق) در اختیارتان قرار گرفته که شامل مشخصات ۱۵۰ گل زنبق است. هرکدام از این گل‌ها به یکی از سه نوع زنبق نوک‌زبر (Iris setosa)، زنبق رنگارنگ (Iris versicolor) و زنبق ویرجینیا (Iris virginica) تعلق دارد. همچنین مشخصات هر گل شامل طول و عرض کاسبرگ (sepal) و گلبرگ (petal) است. با استفاده از این مشخصات، می‌توانیم هر گل را به صورت یک نقطه در فضایی چهاربعدی تصور کنیم که این چهار کمیت، مختصات آن نقطه را تعیین می‌کنند. \n",
    "</font>\n",
    "</p>\n",
    "\n",
    "\n",
    "<center>\n",
    "<div style=\"max-width: 900px\">\n",
    "<img src=\"img/iris_types.jpg\">\n",
    "</div>\n",
    "</center>\n",
    "\n",
    "<p dir=rtl style=\"direction: rtl;text-align: justify;line-height:200%;font-family:vazir;font-size:medium\">\n",
    "<font face=\"vazir\" size=3>\n",
    "مشخصات ۱۲۰ گل زنبق در فایلی به‌نام <code>irises.npy</code> ذخیره شده است. هنگامی‌که این فایل خوانده شود، یک آرایه‌ی ۱۲۰ در ۴ همانند شکل زیر ساخته می‌شود که هر سطر آن، مشخصات یک گل (طول کاسبرگ، عرض کاسبرگ، طول گلبرگ و عرض گلبرگ به سانتی‌متر) را نشان می‌دهد.\n",
    "</font>\n",
    "</p>\n",
    "\n",
    "<center>\n",
    "<div style=\"max-width: 700px\">\n",
    "<img src=\"img/fig_irises.png\">\n",
    "</div>\n",
    "</center>"
   ]
  },
  {
   "cell_type": "code",
   "execution_count": 4,
   "id": "26d1efb5",
   "metadata": {},
   "outputs": [
    {
     "name": "stdout",
     "output_type": "stream",
     "text": [
      "(120, 4)\n"
     ]
    }
   ],
   "source": [
    "irises = np.load('irises.npy')\n",
    "print(irises.shape)\n",
    "# print(irises)"
   ]
  },
  {
   "attachments": {},
   "cell_type": "markdown",
   "id": "711be10b",
   "metadata": {},
   "source": [
    "\n",
    "<p dir=rtl style=\"direction: rtl;text-align: justify;line-height:200%;font-family:vazir;font-size:medium\">\n",
    "<font face=\"vazir\" size=3>\n",
    "از طرفی نوع این گل‌ها (نوک‌زبر، رنگارنگ یا ویرجینیا) به‌صورت عددی در فایل دیگری به نام <code>types.npy</code> ذخیره شده است. مقادیر این آرایه به‌صورت <code>0</code>، <code>1</code> یا <code>2</code> است که به‌ترتیب بیان‌گر نوع زنبق نوک‌زبر، زنبق رنگارنگ و زنبق ویرجینیا هستند.\n",
    "</font>\n",
    "</p>"
   ]
  },
  {
   "cell_type": "code",
   "execution_count": 164,
   "id": "f6c55d30",
   "metadata": {},
   "outputs": [
    {
     "name": "stdout",
     "output_type": "stream",
     "text": [
      "(120,)\n"
     ]
    }
   ],
   "source": [
    "types = np.load('types.npy')\n",
    "print(types.shape)"
   ]
  },
  {
   "attachments": {},
   "cell_type": "markdown",
   "id": "3401f7ed",
   "metadata": {},
   "source": [
    "<p dir=rtl style=\"direction: rtl;text-align: justify;line-height:200%;font-family:vazir;font-size:medium\">\n",
    "<font face=\"vazir\" size=3>\n",
    "در این تمرین قرار است الگوریتمی را پیاده‌سازی کنیم که با دریافت مشخصات یک گل زنبق،‌ نوع آن را پیش‌بینی کند. این پیش‌بینی، به کمک نمونه‌هایی انجام خواهد گرفت که نوع‌شان را از قبل می‌دانیم، یعنی همان داده‌هایی که تا قبل از این خواندید. از این پس چنین نمونه‌هایی را <b style=\"color:#0099cc\">نمونه‌های آموزشی (train)</b> خواهیم خواند.\n",
    "<br>\n",
    "مشخصات مربوط به ۳۰ گل زنبق دیگر که نوع‌شان را <b>نمی‌دانیم</b> و قرار است به کمک الگوریتم k-NN، نوع آن‌ها را پیش‌بینی کنیم در فایل دیگری به نام <code>new_irises.npz</code> در اختیارتان قرار گرفته است. هنگامی‌که این فایل خوانده شود، یک آرایه‌ی ۳۰ در ۴ همانند شکل زیر ساخته می‌شود که هر سطر آن، مشخصات یک گل را نشان می‌دهد. چنین نمونه‌هایی را <b style=\"color:#0099cc\">نمونه‌های آزمون (test)</b> خواهیم خواند.\n",
    "</font>\n",
    "</p>\n",
    "\n",
    "<center>\n",
    "<div style=\"max-width: 700px\">\n",
    "<img src=\"img/fig_new_irises.png\">\n",
    "</div>\n",
    "</center>"
   ]
  },
  {
   "cell_type": "code",
   "execution_count": 1,
   "id": "d72e445e",
   "metadata": {},
   "outputs": [
    {
     "ename": "NameError",
     "evalue": "name 'np' is not defined",
     "output_type": "error",
     "traceback": [
      "\u001b[0;31m---------------------------------------------------------------------------\u001b[0m",
      "\u001b[0;31mNameError\u001b[0m                                 Traceback (most recent call last)",
      "Cell \u001b[0;32mIn[1], line 1\u001b[0m\n\u001b[0;32m----> 1\u001b[0m new_irises \u001b[38;5;241m=\u001b[39m \u001b[43mnp\u001b[49m\u001b[38;5;241m.\u001b[39mload(\u001b[38;5;124m'\u001b[39m\u001b[38;5;124mnew_irises.npy\u001b[39m\u001b[38;5;124m'\u001b[39m)\n\u001b[1;32m      2\u001b[0m \u001b[38;5;28mprint\u001b[39m(new_irises\u001b[38;5;241m.\u001b[39mshape)\n",
      "\u001b[0;31mNameError\u001b[0m: name 'np' is not defined"
     ]
    }
   ],
   "source": [
    "new_irises = np.load('new_irises.npy')\n",
    "print(new_irises.shape)"
   ]
  },
  {
   "attachments": {},
   "cell_type": "markdown",
   "id": "a2cffc36",
   "metadata": {},
   "source": [
    "<p dir=rtl style=\"direction: rtl;text-align: justify;line-height:200%;font-family:vazir;font-size:medium\">\n",
    "<font face=\"vazir\" size=3>\n",
    "تاکنون با موفقیت تمام فایل‌های مجموعه‌داده را خواندیم. اکنون تعداد نمونه‌های آموزشی را <code>n</code> و تعداد نمونه‌های آزمون را <code>m</code> بنامیم و در متغیرهایی به همین نام ذخیره کنیم.\n",
    "</font>\n",
    "</p>"
   ]
  },
  {
   "cell_type": "code",
   "execution_count": 166,
   "id": "524e1890",
   "metadata": {},
   "outputs": [
    {
     "name": "stdout",
     "output_type": "stream",
     "text": [
      "Number of training samples (n): 120\n",
      "Number of test samples (m): 30\n"
     ]
    }
   ],
   "source": [
    "n, m = len(irises), len(new_irises)\n",
    "print(\"Number of training samples (n):\", n)\n",
    "print(\"Number of test samples (m):\", m)"
   ]
  },
  {
   "attachments": {},
   "cell_type": "markdown",
   "id": "cf4c3d98",
   "metadata": {},
   "source": [
    "<h2 dir=rtl align=right style=\"line-height:200%;font-family:vazir;color:#0099cc\">\n",
    "<font face=\"vazir\" color=\"#0099cc\">\n",
    "الگوریتم k نزدیک‌ترین همسایه\n",
    "</font>\n",
    "</h2>\n",
    "\n",
    "<p dir=rtl style=\"direction: rtl;text-align: justify;line-height:200%;font-family:vazir;font-size:medium\">\n",
    "<font face=\"vazir\" size=3>\n",
    "فرض کنید مشخصات یک گل زنبق به شما داده شده و قرار است نوع آن را تشخیص دهید. احتمالاً اولین ایده‌ای که به ذهن‌تان می‌رسد این است که شباهت آن را با گل‌هایی که نوع‌شان را می‌دانید بسنجید و براساس این شباهت، نوع آن را پیش‌بینی کنید. فرض کنید ۳ گل که بیشترین شباهت به این گل داشته‌اند را پیدا کرده‌اید. حال می‌دانید که از این ۳ گل، مثلاً ۲ گل از نوع ویرجینیا است و ۱ گل از نوع نوک‌زبر. حتماً شما هم موافقید که طبق رای اکثریت، احتمال این‌که گل ما هم از نوع ویرجینیا باشد بیشتر است. پس همین نوع را به‌عنوان پیش‌بینی خود اعلام می‌کنیم.\n",
    "<br>\n",
    "این دقیقاً همان کاری‌ست که الگوریتم k-NN انجام می‌دهد. البته در این الگوریتم معمولاً به جای پیدا کردن بیشترین شباهت، کمترین فاصله (تفاوت) محاسبه می‌شود. مراحل این الگوریتم به شرح زیر است: \n",
    "\n",
    "<ol dir=rtl>\n",
    "<li>ابتدا فاصله‌ی نمونه‌ی آزمون (نمونه‌ای که قصد پیش‌بینی نوع آن را داریم) را با تمام نمونه‌های آموزشی (نمونه‌هایی که نوع آن‌ها را می‌دانیم) محاسبه می‌کنیم.</li>\n",
    "<li>سپس <code>k</code> نمونه‌ی آموزشی که کمترین فاصله را با نمونه‌ی آزمون ما داشته‌اند پیدا می‌کنیم.</li>\n",
    "<li>اکنون بررسی می‌کنیم که این <code>k</code> نمونه، بیشتر متعلق به کدام نوع بوده‌اند؟ همان نوع را به‌عنوان پیش‌بینی خود برای نمونه‌ی آزمون اعلام می‌کنیم.</li>\n",
    "</ol>\n",
    "</font>\n",
    "</p>\n",
    "\n",
    "<p dir=rtl style=\"direction: rtl;text-align: justify;line-height:200%;font-family:vazir;font-size:medium\">\n",
    "<font face=\"vazir\" size=3>\n",
    "اکنون شروع کنیم و هرکدام از گام‌های این الگوریتم را به کمک نامپای پیاده‌سازی کنیم.\n",
    "\n",
    "</font>\n",
    "</p>"
   ]
  },
  {
   "attachments": {},
   "cell_type": "markdown",
   "id": "1f317485",
   "metadata": {},
   "source": [
    "<h2 dir=rtl align=right style=\"line-height:200%;font-family:vazir;color:#0099cc\">\n",
    "<font face=\"vazir\" color=\"#0099cc\">\n",
    "قسمت ۱: محاسبه‌ی فاصله‌ها\n",
    "</font>\n",
    "</h2>\n",
    "\n",
    "<p dir=rtl style=\"direction: rtl;text-align: justify;line-height:200%;font-family:vazir;font-size:medium\">\n",
    "<font face=\"vazir\" size=3>\n",
    "در ابتدا قصد داریم تابعی بنویسیم که فاصله‌ی هرکدام از نمونه‌ها/ردیف‌های یک آرایه همچون <code>new_points</code> را با هرکدام از نمونه‌ها/ردیف‌های آرایه‌ی دیگر همچون <code>points</code> محاسبه کند. به‌عنوان مثال در این تمرین اگر ما ۱۲۰ نمونه‌ی آموزشی و ۳۰ نمونه‌ی آزمون داریم، باید فاصله‌ی هرکدام از نمونه‌های آزمون با هرکدام از نمونه‌های آموزشی را محاسبه کنیم، بنابراین خروجی ما دارای ابعاد ۳۰ در ۱۲۰ خواهد بود. به‌عنوان مثال ردیف اول این ماتریس که در شکل سمت راست زیر نشان داده شده،‌ فاصله‌ی نمونه‌ی آزمون اول را با هرکدام از نمونه‌های آموزشی شامل می‌شود.\n",
    "</font>\n",
    "</p>\n",
    "\n",
    "<center>\n",
    "<div style=\"max-width: 1000px\">\n",
    "<img src=\"img/fig.png\">\n",
    "</div>\n",
    "</center>\n",
    "\n",
    "<p dir=rtl style=\"direction: rtl;text-align: justify;line-height:200%;font-family:vazir;font-size:medium\">\n",
    "<font face=\"vazir\" size=3>\n",
    "برای محاسبه‌ی فاصله‌ی بین دو نقطه‌ی <code>p</code> و <code>q</code> با <code>f</code> ویژگی، از رابطه‌ی زیر استفاده خواهیم کرد:\n",
    "</font>\n",
    "</p>\n",
    "\n",
    "$$ d(p,q) = {\\sum_{i=0}^{f-1} (p_i - q_i)^2} $$\n",
    "\n",
    "<p dir=rtl style=\"direction: rtl;text-align: justify;line-height:200%;font-family:vazir;font-size:medium\">\n",
    "<font face=\"vazir\" size=3>\n",
    "در تمرین ما،‌ <code>f</code> برابر با <code>4</code> است. یعنی برای محاسبه‌ی فاصله‌ی بین دو نمونه کافیست عرض کاسبرگ آن‌ها را از هم کم کرده و به توان ۲ برسانیم، سپس  برای طول کاسبرگ،‌ عرض گلبرگ و طول گلبرگ نیز همین کار را انجام داده و حاصل به‌دست‌آمده برای هر چهار ویژگی را با هم جمع کنیم. \n",
    "برای محاسبه‌ی فاصله‌ی بین اجزای دو آرایه روش‌های مختلفی وجود دارد که ۳ رویکرد مختلف را آزمایش خواهیم کرد.\n",
    "</font>\n",
    "</p>"
   ]
  },
  {
   "attachments": {},
   "cell_type": "markdown",
   "id": "3b911f04",
   "metadata": {},
   "source": [
    "<h3 dir=rtl align=right style=\"line-height:200%;font-family:vazir;color:#0099cc\">\n",
    "<font face=\"vazir\" color=\"#0099cc\">\n",
    "روش دو حلقه‌ای\n",
    "</font>\n",
    "</h3>\n",
    "\n",
    "\n",
    "<p dir=rtl style=\"direction: rtl;text-align: justify;line-height:200%;font-family:vazir;font-size:medium\">\n",
    "<font face=\"vazir\" size=3>\n",
    "ابتدا می‌خواهیم این کار را به‌سادگی و به کمک دو حلقه (<code>for</code>) انجام دهیم. یعنی در این روش یک حلقه روی نمونه‌های آزمون می‌نویسیم و داخل آن یک حلقه روی نمونه‌های آموزشی می‌نویسیم تا به ازای هر نمونه‌ی آزمون،‌ مقدار فاصله با هرکدام از نمونه‌های آموزشی محاسبه شود.\n",
    "<br>\n",
    "در تابع زیر کافیست عبارتی را جلوی علامت مساوی (به‌جای <code>None</code>) قرار دهید که فاصله‌ی بین دو نقطه‌ی <code>new_points[i]</code> و <code>points[j]</code> را به کمک فرمول بالا محاسبه کند.\n",
    "<br>\n",
    "<b style=\"color:green\">راهنمایی:</b>\n",
    "پیشنهاد می‌کنیم در این قسمت تنها از توابع مجذور (<code>np.square</code>) و مجموع (<code>np.sum</code>) خود نامپای استفاده کنید.\n",
    "</font>\n",
    "</p>"
   ]
  },
  {
   "cell_type": "code",
   "execution_count": 167,
   "id": "bbace2d7",
   "metadata": {},
   "outputs": [],
   "source": [
    "def calc_two_loops(new_points, points):\n",
    "    \n",
    "    #‌ m is the number of new points (test samples)\n",
    "    m = len(new_points)\n",
    "    # n is the number of points (training samples)\n",
    "    n = len(points)\n",
    "    # Distance matrix\n",
    "    d = np.zeros((m, n))\n",
    "    \n",
    "    # For each new point\n",
    "    for i in range(m):\n",
    "        # For each point\n",
    "        for j in range(n):\n",
    "            # Calculate the distance between the two points\n",
    "            d[i, j] = np.sum(np.square(new_points[i] - points[j]))\n",
    "            \n",
    "    return d"
   ]
  },
  {
   "cell_type": "code",
   "execution_count": 168,
   "id": "282f9b9c",
   "metadata": {},
   "outputs": [
    {
     "name": "stdout",
     "output_type": "stream",
     "text": [
      "(30, 120)\n"
     ]
    }
   ],
   "source": [
    "d2 = calc_two_loops(new_irises, irises)\n",
    "print(d2.shape)\n"
   ]
  },
  {
   "attachments": {},
   "cell_type": "markdown",
   "id": "3710e4d2",
   "metadata": {},
   "source": [
    "<h3 dir=rtl align=right style=\"line-height:200%;font-family:vazir;color:#0099cc\">\n",
    "<font face=\"vazir\" color=\"#0099cc\">\n",
    "روش تک حلقه‌ای\n",
    "</font>\n",
    "</h3>\n",
    "\n",
    "\n",
    "<p dir=rtl style=\"direction: rtl;text-align: justify;line-height:200%;font-family:vazir;font-size:medium\">\n",
    "<font face=\"vazir\" size=3>\n",
    "اکنون می‌خواهیم از خاصیت پخش یا بازآرایی آرایه‌ها استفاده کرده و به‌ترتیب هرکدام از حلقه‌ها را حذف کنیم. در این قسمت می‌خواهیم به کمک خاصیت پخش آرایه، حلقه‌ی داخلی را حذف کرده و فاصله‌ی هر نمونه‌ی آزمون را به‌صورت همزمان با همه‌ی نمونه‌های آموزشی محاسبه کنیم. پس در تابع زیر، این‌بار جلوی علامت مساوی (به‌جای <code>None</code>) عبارتی را قرار دهید که فاصله‌ی همه‌ی نمونه‌های آموزشی با نمونه‌ی آزمون <code>new_points[i]</code> را محاسبه کند.\n",
    "<br>\n",
    "<b style=\"color:purple\">نکته:</b>\n",
    "خروجی این قسمت دقیقاً همانند خروجی تابع دو حلقه‌ای است، با این تفاوت که در تابع قبلی در هر مرحله، مقدار یک عنصر از ماتریس محاسبه می‌شد اما در این قسمت در هر مرحله، یک ردیف کامل از ماتریس محاسبه می‌شود.\n",
    "</font>\n",
    "</p>"
   ]
  },
  {
   "cell_type": "code",
   "execution_count": 169,
   "id": "021a9f1c",
   "metadata": {},
   "outputs": [],
   "source": [
    "def calc_one_loop(new_points, points):\n",
    "    \n",
    "    #‌ m is the number of new points (test samples)\n",
    "    m = len(new_points)\n",
    "    # n is the number of points (training samples)\n",
    "    n = len(points)\n",
    "    # Distance matrix\n",
    "    d = np.zeros((m, n))\n",
    "    \n",
    "    # For each new point\n",
    "    for i in range(m):\n",
    "        # Calculate the distance between the new point and all the points\n",
    "        a = new_points[i] - points\n",
    "        d[i] = np.sum(np.square(a), axis=1)\n",
    "        \n",
    "    return d"
   ]
  },
  {
   "cell_type": "code",
   "execution_count": 170,
   "id": "4f7f3d42",
   "metadata": {},
   "outputs": [
    {
     "name": "stdout",
     "output_type": "stream",
     "text": [
      "(30, 120)\n"
     ]
    }
   ],
   "source": [
    "d1 = calc_one_loop(new_irises, irises)\n",
    "print(d1.shape)"
   ]
  },
  {
   "attachments": {},
   "cell_type": "markdown",
   "id": "e9af1fe4",
   "metadata": {},
   "source": [
    "<h3 dir=rtl align=right style=\"line-height:200%;font-family:vazir;color:#0099cc\">\n",
    "<font face=\"vazir\" color=\"#0099cc\">\n",
    "روش بدون حلقه\n",
    "</font>\n",
    "</h3>\n",
    "\n",
    "\n",
    "<p dir=rtl style=\"direction: rtl;text-align: justify;line-height:200%;font-family:vazir;font-size:medium\">\n",
    "<font face=\"vazir\" size=3>\n",
    "این‌بار باز هم از خاصیت‌های آرایه‌ها استفاده کرده و در تابع زیر جلوی <code>return</code> تنها یک خط کد بنویسید که کل فاصله‌ها را خروجی دهد.\n",
    "<br>\n",
    "ممکن است ساختن آرایه‌ی فاصله‌ها بدون حلقه، پیچیده به نظر برسد. اما استفاده از توابع نامپای به جای استفاده از حلقه، هم باعث سریع‌تر شدن کد و هم کوتاه‌تر شدن آن می‌شود و خوب است به آن عادت کنید. سریع‌تر شدن کد را می‌توانید با ورودی دادن آرایه‌های بزرگ آزمایش کنید.\n",
    "</font>\n",
    "</p>\n",
    "\n",
    "<p dir=rtl style=\"direction: rtl;text-align: justify;line-height:200%;font-family:vazir;font-size:medium\">\n",
    "<font face=\"vazir\" size=3>\n",
    "<b style=\"color:green\">راهنمایی ۱:</b> یک راه‌حل ممکن این است که ماتریس <code>new_points</code> را به گونه‌ای بازآرایی کنیم که به شکل <code>m</code> آرایه‌ با ابعاد <code dir=ltr>(1, f)</code> در بیاید (<code>f</code> تعداد ویژگی‌هاست که در این تمرین برابر <code>4</code> است) و <code>points</code> هم به <code>1</code> آرایه با ابعاد <code>(n, f)</code> تبدیل شود. پس از آن کافیست به ترتیب به محاسبه‌ی فاصله‌ها، مجذور (توان ۲) فاصله‌ها و در نهایت مجموع بپردازیم. توجه داشته باشید که تمام این موارد باید در یک خط کد انجام شوند.\n",
    "</font>\n",
    "</p>\n",
    "\n",
    "<p dir=rtl style=\"direction: rtl;text-align: justify;line-height:200%;font-family:vazir;font-size:medium\">\n",
    "<font face=\"vazir\" size=3>\n",
    "<b style=\"color:green\">راهنمایی ۲:</b> برای بازآرایی می‌توانید از <code>reshape</code> استفاده کنید،‌ یا این‌که از <code>np.newaxis</code> که در درسنامه‌ی نمایه‌سازی با آرایه‌ها معرفی شد کمک بگیرید.\n",
    "</font>\n",
    "</p>"
   ]
  },
  {
   "cell_type": "code",
   "execution_count": 171,
   "id": "f3e881e6",
   "metadata": {},
   "outputs": [],
   "source": [
    "def calc_no_loop(new_points, points):\n",
    "    return np.sum(np.square(new_points[:,np.newaxis,:] - points),axis=2)"
   ]
  },
  {
   "cell_type": "code",
   "execution_count": 172,
   "id": "5091f442",
   "metadata": {},
   "outputs": [
    {
     "name": "stdout",
     "output_type": "stream",
     "text": [
      "(30, 120)\n"
     ]
    }
   ],
   "source": [
    "d = calc_no_loop(new_irises, irises)\n",
    "print(d.shape)"
   ]
  },
  {
   "attachments": {},
   "cell_type": "markdown",
   "id": "7ca46ad9",
   "metadata": {},
   "source": [
    "<h3 dir=rtl align=right style=\"line-height:200%;font-family:vazir;color:#0099cc\">\n",
    "<font face=\"vazir\" color=\"#0099cc\">\n",
    "بررسی\n",
    "🧐\n",
    "</font>\n",
    "</h3>\n",
    "\n",
    "<p dir=rtl style=\"direction: rtl;text-align: justify;line-height:200%;font-family:vazir;font-size:medium\">\n",
    "<font face=\"vazir\" size=3>\n",
    "محاسبه‌ی آرایه فاصله‌ها به سه روش فوق، نباید تفاوتی در نتیجه حاصل کند. از این رو کد زیر را اجرا کنید تا از برابر بودن خروجی سه تابع فوق اطمینان حاصل کنید. از این به بعد از آرایه‌ی ‍<code>d</code> به عنوان آرایه‌ی فاصله‌ها استفاده می‌کنیم.\n",
    "</font>\n",
    "</p>"
   ]
  },
  {
   "cell_type": "code",
   "execution_count": 156,
   "id": "6b3eda6e",
   "metadata": {},
   "outputs": [
    {
     "name": "stdout",
     "output_type": "stream",
     "text": [
      "Fine!\n"
     ]
    }
   ],
   "source": [
    "if np.allclose(d, d1, 1e-5) and np.allclose(d, d2, 1e-5) and np.allclose(d1, d2, 1e-5):\n",
    "    print('Fine!')\n",
    "else:\n",
    "    print('There is something wrong!')"
   ]
  },
  {
   "attachments": {},
   "cell_type": "markdown",
   "id": "736578c2",
   "metadata": {},
   "source": [
    "<h2 dir=rtl align=right style=\"line-height:200%;font-family:vazir;color:#0099cc\">\n",
    "<font face=\"vazir\" color=\"#0099cc\">\n",
    "قسمت ۲: پیدا کردن <code>k</code> نزدیک‌ترین همسایه\n",
    "</font>\n",
    "</h2>\n",
    "\n",
    "<p dir=rtl style=\"direction: rtl;text-align: justify;line-height:200%;font-family:vazir;font-size:medium\">\n",
    "<font face=\"vazir\" size=3>\n",
    "    به کمک توابع پیاده‌سازی شده توانستیم فاصله‌ی هر نمونه‌ی آزمون با هرکدام از نمونه‌های آموزشی را محاسبه کنیم و حاصل را در <code>d</code> ذخیره کردیم.\n",
    "    یعنی فاصله‌ی نمونه‌ی آزمون <code>new_irises[i]</code> با نمونه‌ی آموزشی <code>irises[j]</code> را در درایه‌ی <code>d[i][j]</code> ذخیره کرده‌ایم. اکنون نیاز است به‌ازای هر نمونه‌ی آزمون، <code>k</code> نمونه‌ی آموزشی با کمترین فاصله به آن را پیدا کنیم. توجه داشته باشید که باید شماره‌ی نزدیک‌ترین نمونه‌ها را ذخیره کنیم، نه خود مقدار فاصله را. در اینجا <code>k</code> را برابر <code>10</code> در نظر بگیرید، بنابراین آرایه‌ی خروجی <code>k_nearest</code> یک ماتریس با ابعاد <code dir=ltr>(30, 10)</code> خواهد بود.\n",
    "</font>\n",
    "</p>\n",
    "\n",
    "<p dir=rtl style=\"direction: rtl;text-align: justify;line-height:200%;font-family:vazir;font-size:medium\">\n",
    "<font face=\"vazir\" size=3>\n",
    "    <b style=\"color:green\">راهنمایی:</b>\n",
    "    به منظور پیدا کردن نزدیک‌ترین همسایگان (کم‌ترین فاصله‌ها) از <code>np.argpartition</code> استفاده کنید.\n",
    "    تفاوت <code>argpartition</code> با <code>partition</code> همچون تفاوت <code>argsort</code> با <code>sort</code> است. یعنی این تابع، شماره (اندیس) عناصر مرتب‌شده را خروجی می‌دهد و نه مقدار آن‌ها را.\n",
    "</font>\n",
    "</p>"
   ]
  },
  {
   "cell_type": "code",
   "execution_count": 198,
   "id": "6619de84",
   "metadata": {},
   "outputs": [],
   "source": [
    "k = 10\n",
    "k_nearest = np.argpartition(d,k,axis=1)[:,:k]\n",
    "\n",
    "# print(k_nearest)\n",
    "# print(np.argpartition(d,2,axis=1)[:,:k])"
   ]
  },
  {
   "cell_type": "code",
   "execution_count": 199,
   "id": "637a3d3d",
   "metadata": {},
   "outputs": [],
   "source": [
    "# print(np.argsort(d)[:,:k])"
   ]
  },
  {
   "attachments": {},
   "cell_type": "markdown",
   "id": "4f32a9ad",
   "metadata": {},
   "source": [
    "<h2 dir=rtl align=right style=\"line-height:200%;font-family:vazir;color:#0099cc\">\n",
    "<font face=\"vazir\" color=\"#0099cc\">\n",
    "قسمت ۳: پیدا کردن نوع <code>k</code> نزدیک‌ترین همسایه\n",
    "</font>\n",
    "</h2>\n",
    "\n",
    "<p dir=rtl style=\"direction: rtl;text-align: justify;line-height:200%;font-family:vazir;font-size:medium\">\n",
    "<font face=\"vazir\" size=3>\n",
    "    اکنون اندیس نزدیک‌ترین همسایه‌ها (نمونه‌های آموزشی) برای هر نمونه‌ی آزمون را در آرایه‌ی <code>k_nearest</code> داریم. اما ما به دنبال نوع هرکدام از آن‌ها هستیم. برای آن‌که به‌جای هرکدام از اندیس‌ها،‌ نوع آن گل را جایگزین کنید می‌توانید از آرایه‌ی <code>types</code> استفاده کنید. این کار را در یک خط انجام داده و متغیر ‌<code>k_nearest_types</code> را مقداردهی کنید.\n",
    "</font>\n",
    "</p>"
   ]
  },
  {
   "cell_type": "code",
   "execution_count": 191,
   "id": "b60f862c",
   "metadata": {},
   "outputs": [],
   "source": [
    "k_nearest_types = types[k_nearest]\n"
   ]
  },
  {
   "attachments": {},
   "cell_type": "markdown",
   "id": "eb9c7e91",
   "metadata": {},
   "source": [
    "<h2 dir=rtl align=right style=\"line-height:200%;font-family:vazir;color:#0099cc\">\n",
    "<font face=\"vazir\" color=\"#0099cc\">\n",
    "قسمت ۴: تعیین نوع گل‌های جدید\n",
    "</font>\n",
    "</h2>\n",
    "\n",
    "<p dir=rtl style=\"direction: rtl;text-align: justify;line-height:200%;font-family:vazir;font-size:medium\">\n",
    "<font face=\"vazir\" size=3>\n",
    "    در نهایت، باید یک آرایه به نام <code>predicted_types</code> و به طول <code>m</code> بسازیم که در خانه‌ی <code>predicted_types[i]</code>، پرتکرارترین شناسه در <code>k_nearest_types[i]</code> به عنوان شناسه نوع پیش‌بینی شده برای <code>new_irises[i]</code> قرار می‌گیرد.\n",
    "    <br>\n",
    "    از آنجا که نامپای مستقیماً‌ تابع مُد (<code>mode</code>) ندارد، این کار را به کمک تابع <code>mode</code> که داخل کتابخانه‌ی <code>scipy</code> قرار دارد، انجام داده‌ایم.\n",
    "</font>\n",
    "</p>"
   ]
  },
  {
   "cell_type": "code",
   "execution_count": 190,
   "id": "785a1c4d",
   "metadata": {},
   "outputs": [
    {
     "name": "stdout",
     "output_type": "stream",
     "text": [
      "[0 0 0 0 0 0 0 0 0 0 1 1 1 1 1 1 1 1 1 1 2 2 2 2 2 2 2 2 2 2]\n"
     ]
    }
   ],
   "source": [
    "from scipy import stats\n",
    "predicted_types = stats.mode(k_nearest_types, axis=1).mode.reshape(m)\n",
    "print(predicted_types)"
   ]
  },
  {
   "attachments": {},
   "cell_type": "markdown",
   "id": "1237953f",
   "metadata": {},
   "source": [
    "<p dir=rtl style=\"direction: rtl;text-align: justify;line-height:200%;font-family:vazir;font-size:medium\">\n",
    "<font face=\"vazir\" size=3>\n",
    "در این قسمت، آرایه‌ی <code>new_types</code> بارگیری شده است که حاوی جواب‌های درست است. از روی آن، دقت دسته‌بندی‌ را محاسبه و در متغیر <code>accuracy</code> ذخیره کنید. دقت دسته‌بندی برابر با تعداد پیش‌بینی‌های درست تقسیم بر تعداد نمونه‌های آزمون است. اگر مراحل کار را درست انجام داده باشید، دقت باید برابر ۱ باشد (یعنی دسته‌بند نوع تمام گل‌های آزمون را درست پیش‌بینی کرده است).\n",
    "</font>\n",
    "</p>"
   ]
  },
  {
   "cell_type": "code",
   "execution_count": 192,
   "id": "6c855388",
   "metadata": {},
   "outputs": [
    {
     "name": "stdout",
     "output_type": "stream",
     "text": [
      "Accuracy: 1.0\n"
     ]
    }
   ],
   "source": [
    "new_types = np.load('new_types.npy')\n",
    "diff = new_types - predicted_types\n",
    "accuracy = np.sum(diff + 1)/ m\n",
    "print('Accuracy:', accuracy)"
   ]
  },
  {
   "attachments": {},
   "cell_type": "markdown",
   "id": "18b1bc75",
   "metadata": {},
   "source": [
    "<h2 align=right style=\"line-height:200%;font-family:vazir;color:#0099cc\">\n",
    "<font face=\"vazir\" color=\"#0099cc\">\n",
    "<b>سلول جواب‌ساز</b>\n",
    "</font>\n",
    "</h2>\n",
    "\n",
    "\n",
    "<p dir=rtl style=\"direction: rtl; text-align: justify; line-height:200%; font-family:vazir; font-size:medium\">\n",
    "<font face=\"vazir\" size=3>\n",
    "    برای ساخته‌شدن فایل <code>result.zip</code> سلول زیر را اجرا کنید. توجه داشته باشید که پیش از اجرای سلول زیر تغییرات اعمال شده در نت‌بوک را ذخیره کرده باشید (<code>ctrl+s</code>) تا در صورت نیاز به پشتیبانی امکان بررسی کد شما وجود داشته باشد.\n",
    "</font>\n",
    "</p>"
   ]
  },
  {
   "cell_type": "code",
   "execution_count": 193,
   "id": "76ccca15",
   "metadata": {},
   "outputs": [
    {
     "name": "stdout",
     "output_type": "stream",
     "text": [
      "The following commands were written to file `calc_two_loops.py`:\n",
      "import numpy as np\n",
      "def calc_two_loops(new_points, points):\n",
      "    \n",
      "    #‌ m is the number of new points (test samples)\n",
      "    m = len(new_points)\n",
      "    # n is the number of points (training samples)\n",
      "    n = len(points)\n",
      "    # Distance matrix\n",
      "    d = np.zeros((m, n))\n",
      "    \n",
      "    # For each new point\n",
      "    for i in range(m):\n",
      "        # For each point\n",
      "        for j in range(n):\n",
      "            # Calculate the distance between the two points\n",
      "            d[i, j] = np.sum(np.square(new_points[i] - points[j]))\n",
      "            \n",
      "    return d\n",
      "\n",
      "The following commands were written to file `calc_one_loop.py`:\n",
      "import numpy as np\n",
      "def calc_one_loop(new_points, points):\n",
      "    \n",
      "    #‌ m is the number of new points (test samples)\n",
      "    m = len(new_points)\n",
      "    # n is the number of points (training samples)\n",
      "    n = len(points)\n",
      "    # Distance matrix\n",
      "    d = np.zeros((m, n))\n",
      "    \n",
      "    # For each new point\n",
      "    for i in range(m):\n",
      "        # Calculate the distance between the new point and all the points\n",
      "        a = new_points[i] - points\n",
      "        d[i] = np.sum(np.square(a), axis=1)\n",
      "        \n",
      "    return d\n",
      "\n",
      "The following commands were written to file `calc_no_loop.py`:\n",
      "import numpy as np\n",
      "def calc_no_loop(new_points, points):\n",
      "    return np.sum(np.square(new_points[:,np.newaxis,:] - points),axis=2)\n",
      "\n",
      "File Paths:\n",
      "['calc_two_loops.py', 'calc_one_loop.py', 'calc_no_loop.py', 'answers.npz', 'iris_flowers.ipynb']\n"
     ]
    }
   ],
   "source": [
    "import zipfile\n",
    "from inspect import getsource\n",
    "\n",
    "np.savez(\"answers.npz\", k_nearest = k_nearest, k_nearest_types = k_nearest_types, predicted_types = predicted_types)\n",
    "\n",
    "def compress(file_names):\n",
    "    print(\"File Paths:\")\n",
    "    print(file_names)\n",
    "    compression = zipfile.ZIP_DEFLATED\n",
    "    with zipfile.ZipFile(\"result.zip\", mode=\"w\") as zf:\n",
    "        for file_name in file_names:\n",
    "            zf.write('./' + file_name, file_name, compress_type=compression)\n",
    "\n",
    "imp = 'import numpy as np\\n'\n",
    "%save calc_two_loops imp + getsource(calc_two_loops)\n",
    "%save calc_one_loop imp + getsource(calc_one_loop)\n",
    "%save calc_no_loop imp + getsource(calc_no_loop)\n",
    "\n",
    "file_names = [\"calc_two_loops.py\", \"calc_one_loop.py\", \"calc_no_loop.py\",\n",
    "              \"answers.npz\", \"iris_flowers.ipynb\"]\n",
    "compress(file_names)"
   ]
  }
 ],
 "metadata": {
  "kernelspec": {
   "display_name": "qenv",
   "language": "python",
   "name": "qenv"
  },
  "language_info": {
   "codemirror_mode": {
    "name": "ipython",
    "version": 3
   },
   "file_extension": ".py",
   "mimetype": "text/x-python",
   "name": "python",
   "nbconvert_exporter": "python",
   "pygments_lexer": "ipython3",
   "version": "3.11.4"
  },
  "vscode": {
   "interpreter": {
    "hash": "6a29b8f2e1e8b11f80c3820468461bcdbea6564508a235f61a46eeb59d48b308"
   }
  }
 },
 "nbformat": 4,
 "nbformat_minor": 5
}
