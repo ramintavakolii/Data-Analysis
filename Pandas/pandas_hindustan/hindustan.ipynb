{
 "cells": [
  {
   "attachments": {},
   "cell_type": "markdown",
   "id": "ff54573a",
   "metadata": {},
   "source": [
    "<h1 align=center style=\"line-height:200%;font-family:vazir;color:#0099cc\">\n",
    "<font face=\"vazir\" color=\"#0099cc\">\n",
    "هندوستان\n",
    "</font>\n",
    "</h1>\n",
    "\n",
    "<p dir=rtl style=\"direction: rtl;text-align: justify;line-height:200%;font-family:vazir;font-size:medium\">\n",
    "<font face=\"vazir\" size=3>\n",
    "در این تمرین به‌سراغ یک مجموعه‌داده از غذاهای هندوستان می‌رویم و بررسی می‌کنیم که هندوها تا چه حد ذائقه‌ی تندی دارند. همچنین چند مورد از دیرپزترین غذاهای‌شان را می‌یابیم.\n",
    "</font>\n",
    "</p>\n"
   ]
  },
  {
   "attachments": {},
   "cell_type": "markdown",
   "id": "f7cd7632",
   "metadata": {},
   "source": [
    "<h2 align=right style=\"line-height:200%;font-family:vazir;color:#0099cc\">\n",
    "<font face=\"vazir\" color=\"#0099cc\">\n",
    "مجموعه‌داده\n",
    "</font>\n",
    "</h2>\n",
    "\n",
    "<p dir=rtl style=\"direction: rtl;text-align: justify;line-height:200%;font-family:vazir;font-size:medium\">\n",
    "<font face=\"vazir\" size=3>\n",
    "داده‌های مرتبط با این تمرین در فایل <code>food.csv</code> قرار گرفته و شامل ستون‌های زیر است:\n",
    "</font>\n",
    "</p>\n",
    "\n",
    "<center>\n",
    "<div dir=rtl style=\"direction: rtl;line-height:200%;font-family:vazir;font-size:medium\">\n",
    "<font face=\"vazir\" size=3>\n",
    "\n",
    "    \n",
    "| ستون | توضیح |\n",
    "| :---: | :---: |\n",
    "| <code>name</code> | نام غذا |\n",
    "| <code>ingredients</code>| مواد تشکیل‌دهنده‌ی غذا|\n",
    "| <code>diet</code>|دارای دو مقدار <code>vegetarian</code> و <code>non vegetarian</code> است که نشان می‌دهد آیا غذا مناسب گیاه‌خواران هست یا خیر.|\n",
    "| <code>prep_time</code>| زمانی که طول می‌کشد تا غذا آماده شود. این زمان شامل زمان پخت نمی‌شود. مثلاً زمان پوست کندن یا شستن مواد اولیه در این ستون لحاظ شده‌اند.|\n",
    "| <code>cook_time</code>| زمان پخت یک غذا| \n",
    "| <code>flavor_profile</code>| مزه‌ی غذا را نشان می‌دهد. دارای ۴ مقدار <code>spicy</code> برای غذاهای تند، <code>sweet</code> برای غذاهای شیرین، <code>bitter</code> برای غذاهای تلخ و <code>sour</code> برای غذاهای ترش است.|\n",
    "| <code>course</code>| وعده‌ی اصلی، میان‌وعده، دسر یا پیش‌غذا بودن یک غذا را نشان می‌دهد.|\n",
    "| <code>state</code>| ایالتی که زادگاه غذاست یا حداقل این غذا در آن‌جا معروف است.|\n",
    "| <code>region</code>| منطقه‌ای که ایالت (<code>state</code>) در آن واقع شده است.|\n",
    "\n",
    "\n",
    "</font>\n",
    "</div>\n",
    "</center>"
   ]
  },
  {
   "cell_type": "code",
   "execution_count": 4,
   "id": "1d2bc674",
   "metadata": {},
   "outputs": [],
   "source": [
    "import pandas as pd \n",
    "import numpy as np"
   ]
  },
  {
   "cell_type": "code",
   "execution_count": 5,
   "id": "cf5dff88",
   "metadata": {},
   "outputs": [
    {
     "name": "stdout",
     "output_type": "stream",
     "text": [
      "                  name                                        ingredients  \\\n",
      "0           Balu shahi                    Maida flour, yogurt, oil, sugar   \n",
      "1               Boondi                            Gram flour, ghee, sugar   \n",
      "2       Gajar ka halwa       Carrots, milk, sugar, ghee, cashews, raisins   \n",
      "3               Ghevar  Flour, ghee, kewra, milk, clarified butter, su...   \n",
      "4          Gulab jamun  Milk powder, plain flour, baking powder, ghee,...   \n",
      "..                 ...                                                ...   \n",
      "175  Prawn malai curry      Coconut milk, prawns, garlic, turmeric, sugar   \n",
      "176             Shukto  Green beans, bitter gourd, ridge gourd, banana...   \n",
      "177          Til Pitha            Glutinous rice, black sesame seeds, gur   \n",
      "178            Bebinca  Coconut milk, egg yolks, clarified butter, all...   \n",
      "179          Mawa Bati  Milk powder, dry fruits, arrowroot powder, all...   \n",
      "\n",
      "               diet  prep_time  cook_time flavor_profile       course  \\\n",
      "0        vegetarian       45.0       25.0          sweet      dessert   \n",
      "1        vegetarian       80.0       30.0          sweet      dessert   \n",
      "2        vegetarian       15.0       60.0          sweet      dessert   \n",
      "3        vegetarian       15.0       30.0          sweet      dessert   \n",
      "4        vegetarian       15.0       40.0          sweet      dessert   \n",
      "..              ...        ...        ...            ...          ...   \n",
      "175  non vegetarian       15.0       50.0          spicy  main course   \n",
      "176      vegetarian       10.0       20.0          spicy  main course   \n",
      "177      vegetarian        5.0       30.0          sweet      dessert   \n",
      "178      vegetarian       20.0       60.0          sweet      dessert   \n",
      "179      vegetarian       20.0       45.0          sweet      dessert   \n",
      "\n",
      "              state      region  \n",
      "0       West Bengal        East  \n",
      "1         Rajasthan        West  \n",
      "2            Punjab       North  \n",
      "3         Rajasthan        West  \n",
      "4       West Bengal        East  \n",
      "..              ...         ...  \n",
      "175     West Bengal        East  \n",
      "176     West Bengal        East  \n",
      "177           Assam  North East  \n",
      "178             Goa        West  \n",
      "179  Madhya Pradesh     Central  \n",
      "\n",
      "[180 rows x 9 columns]\n"
     ]
    }
   ],
   "source": [
    "df = pd.read_csv(\"food.csv\")\n",
    "print(df)"
   ]
  },
  {
   "attachments": {},
   "cell_type": "markdown",
   "id": "067c1145",
   "metadata": {},
   "source": [
    "<h2 align=right style=\"line-height:200%;font-family:vazir;color:#0099cc\">\n",
    "<font face=\"vazir\" color=\"#0099cc\">\n",
    "قسمت اول\n",
    "</font>\n",
    "</h2>\n",
    "<p dir=rtl style=\"direction: rtl;text-align: justify;line-height:200%;font-family:vazir;font-size:medium\">\n",
    "<font face=\"vazir\" size=3>\n",
    "بسیار شنیده‌ایم که هندوها عاشق غذاهای تند هستند! حال می‌خواهیم با توجه به مجموعه‌داده‌ی موجود صحت این گزاره را بررسی کرده و ببینیم که چه نسبتی از کل غذاهای این مجموعه، دارای مزه‌ی تندی هستند؟\n",
    "برای این کار کافیست حاصل تقسیم تعداد غذاهای تند مزه را بر تعداد کل غذاها حساب کنید و در متغیر <code>spicy_ratio</code> ذخیره کنید.\n",
    "</font>\n",
    "</p>\n"
   ]
  },
  {
   "cell_type": "code",
   "execution_count": 6,
   "id": "d6461854",
   "metadata": {},
   "outputs": [
    {
     "name": "stdout",
     "output_type": "stream",
     "text": [
      "0.5666666666666667\n"
     ]
    }
   ],
   "source": [
    "sweet_food = (df.flavor_profile == \"spicy\")\n",
    "number = np.sum(sweet_food)\n",
    "spicy_ratio = number / 180 \n",
    "print(spicy_ratio)\n"
   ]
  },
  {
   "attachments": {},
   "cell_type": "markdown",
   "id": "5137d5bc",
   "metadata": {},
   "source": [
    "<h2 align=right style=\"line-height:200%;font-family:vazir;color:#0099cc\">\n",
    "<font face=\"vazir\" color=\"#0099cc\">\n",
    "قسمت دوم\n",
    "</font>\n",
    "</h2>\n",
    "<p dir=rtl style=\"direction: rtl;text-align: justify;line-height:200%;font-family:vazir;font-size:medium\">\n",
    "<font face=\"vazir\" size=3>\n",
    "اکنون می‌خواهیم بدانیم کدام غذاها از لحظه‌ی شروع آماده‌سازی مخلفات تا لحظه‌ی آماده‌ی سرو شدن، بیشترین زمان را مصرف می‌کنند.\n",
    "برای این‌کار باید جمع مدت زمان آماده‌سازی و زمان لازم برای طبخ غذا را در نظر گرفته و سپس <b>۱۰ غذایی</b> که بیشترین زمان را مصرف می‌کنند <b>به‌ترتیب نزولی</b> در قالب یک دیتافریم در متغیر <code>df_most_time_consuming</code> ذخیره کنید. \n",
    "</font>\n",
    "</p>\n",
    "\n",
    "<p dir=rtl style=\"direction: rtl;text-align: justify;line-height:200%;font-family:vazir;font-size:medium\">\n",
    "<font face=\"vazir\" size=3>\n",
    "<span style=\"color:#0099cc\"><b>نکته:</b></span>\n",
    "    فرمت و ترتیب ستون‌های دیتافریم <code>df_most_time_consuming</code> باید دقیقاً شبیه به دیتافریم <code>df</code> باشد. یعنی این دیتافریم دارای ۱۰ سطر و ۹ ستون خواهد بود.\n",
    "</font>\n",
    "</p>"
   ]
  },
  {
   "cell_type": "code",
   "execution_count": 7,
   "id": "ae1f814c",
   "metadata": {},
   "outputs": [
    {
     "name": "stdout",
     "output_type": "stream",
     "text": [
      "                  name                                        ingredients  \\\n",
      "0            Shrikhand                     Curd, sugar, saffron, cardamom   \n",
      "1          Pindi chana   Fennel, tea bags, tomato, kasuri methi, cinnamon   \n",
      "2            Misti doi                                      Milk, jaggery   \n",
      "3             Poornalu                                 Chana dal, jaggery   \n",
      "4       Chak Hao Kheer                        Rice, milk, sugar, cardamom   \n",
      "5     Tandoori Chicken  Greek yogurt, garam masala, kasuri methi, mari...   \n",
      "6  Tandoori Fish Tikka  Chickpea flour, biryani masala powder, yogurt,...   \n",
      "7       Obbattu holige  Maida flour, turmeric, coconut, chickpeas, jag...   \n",
      "8            Ras malai                    Chhena, reduced milk, pistachio   \n",
      "9                 Attu  Whole wheat flour, arhar dal, ginger, kala jee...   \n",
      "\n",
      "             diet  prep_time  cook_time flavor_profile       course  \\\n",
      "0      vegetarian       10.0      720.0          sweet      dessert   \n",
      "1      vegetarian      500.0      120.0          spicy  main course   \n",
      "2      vegetarian      480.0       30.0          sweet      dessert   \n",
      "3      vegetarian      240.0       60.0          sweet      dessert   \n",
      "4      vegetarian      240.0       45.0          sweet      dessert   \n",
      "5  non vegetarian      240.0       30.0          spicy  main course   \n",
      "6  non vegetarian      240.0       30.0          spicy      starter   \n",
      "7      vegetarian      180.0       60.0          sweet  main course   \n",
      "8      vegetarian      180.0       60.0          sweet      dessert   \n",
      "9      vegetarian      150.0       25.0          spicy        snack   \n",
      "\n",
      "            state      region  \n",
      "0     Maharashtra        West  \n",
      "1          Punjab       North  \n",
      "2     West Bengal        East  \n",
      "3  Andhra Pradesh       South  \n",
      "4         Manipur  North East  \n",
      "5          Punjab       North  \n",
      "6          Punjab       North  \n",
      "7       Karnataka       South  \n",
      "8     West Bengal        East  \n",
      "9  Andhra Pradesh       South  \n"
     ]
    }
   ],
   "source": [
    "def sum_row (row) :\n",
    "    \n",
    "    return row['prep_time'] + row['cook_time']\n",
    "\n",
    "df['sum'] = df.apply(sum_row, axis=1)\n",
    "df_most_time_consuming = df.sort_values(by='sum',ascending=False,ignore_index=True)\n",
    "df_most_time_consuming = df_most_time_consuming.head(10)\n",
    "df_most_time_consuming.drop(['sum'], axis=1, inplace=True)\n",
    "print(df_most_time_consuming)"
   ]
  },
  {
   "cell_type": "markdown",
   "id": "7341ff2d",
   "metadata": {},
   "source": [
    "<h2 align=right style=\"line-height:200%;font-family:vazir;color:#0099cc\">\n",
    "<font face=\"vazir\" color=\"#0099cc\">\n",
    "<b>سلول جواب‌ساز</b>\n",
    "</font>\n",
    "</h2>\n"
   ]
  },
  {
   "cell_type": "code",
   "execution_count": 8,
   "id": "5f63b15c",
   "metadata": {},
   "outputs": [
    {
     "name": "stdout",
     "output_type": "stream",
     "text": [
      "File Paths:\n",
      "['spicy_ratio.npy', 'df_most_time_consuming.csv', 'hindustan.ipynb']\n"
     ]
    }
   ],
   "source": [
    "import zipfile\n",
    "\n",
    "np.save(\"spicy_ratio\", np.array(spicy_ratio))\n",
    "df_most_time_consuming.to_csv('df_most_time_consuming.csv', index=False)\n",
    "\n",
    "def compress(file_names):\n",
    "    print(\"File Paths:\")\n",
    "    print(file_names)\n",
    "    compression = zipfile.ZIP_DEFLATED\n",
    "    with zipfile.ZipFile(\"result.zip\", mode=\"w\") as zf:\n",
    "        for file_name in file_names:\n",
    "            zf.write('./' + file_name, file_name, compress_type=compression)\n",
    "\n",
    "file_names = [\"spicy_ratio.npy\", \"df_most_time_consuming.csv\", \"hindustan.ipynb\"]\n",
    "compress(file_names)"
   ]
  }
 ],
 "metadata": {
  "kernelspec": {
   "display_name": "qenv",
   "language": "python",
   "name": "qenv"
  },
  "language_info": {
   "codemirror_mode": {
    "name": "ipython",
    "version": 3
   },
   "file_extension": ".py",
   "mimetype": "text/x-python",
   "name": "python",
   "nbconvert_exporter": "python",
   "pygments_lexer": "ipython3",
   "version": "3.11.4"
  },
  "vscode": {
   "interpreter": {
    "hash": "44e7e1b8fa2096bd5707ed7fd18b1724a2db25f4c565a7673f8b6e7bfc49d25d"
   }
  }
 },
 "nbformat": 4,
 "nbformat_minor": 5
}
